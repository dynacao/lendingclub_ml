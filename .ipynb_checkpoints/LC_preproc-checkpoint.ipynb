{
 "cells": [
  {
   "cell_type": "code",
   "execution_count": 1,
   "metadata": {},
   "outputs": [],
   "source": [
    "import pandas as pd\n",
    "import numpy as np"
   ]
  },
  {
   "cell_type": "code",
   "execution_count": 2,
   "metadata": {},
   "outputs": [
    {
     "name": "stderr",
     "output_type": "stream",
     "text": [
      "C:\\Users\\aznan\\anaconda3\\lib\\site-packages\\IPython\\core\\interactiveshell.py:3063: DtypeWarning: Columns (0,19,49,59,118,129,130,131,134,135,136,139,145,146,147) have mixed types.Specify dtype option on import or set low_memory=False.\n",
      "  interactivity=interactivity, compiler=compiler, result=result)\n"
     ]
    }
   ],
   "source": [
    "accepted = pd.read_csv('../data/accepted_2007_to_2018Q4.csv')[['loan_amnt','issue_d','title',\n",
    "                                                               'last_fico_range_high','dti','zip_code','addr_state',\n",
    "                                                               'emp_length','policy_code']]\n",
    "rejected = pd.read_csv('../data/rejected_2007_to_2018Q4.csv')"
   ]
  },
  {
   "cell_type": "code",
   "execution_count": 3,
   "metadata": {},
   "outputs": [
    {
     "name": "stdout",
     "output_type": "stream",
     "text": [
      "<class 'pandas.core.frame.DataFrame'>\n",
      "RangeIndex: 2260701 entries, 0 to 2260700\n",
      "Data columns (total 9 columns):\n",
      " #   Column                Dtype  \n",
      "---  ------                -----  \n",
      " 0   loan_amnt             float64\n",
      " 1   issue_d               object \n",
      " 2   title                 object \n",
      " 3   last_fico_range_high  float64\n",
      " 4   dti                   float64\n",
      " 5   zip_code              object \n",
      " 6   addr_state            object \n",
      " 7   emp_length            object \n",
      " 8   policy_code           float64\n",
      "dtypes: float64(4), object(5)\n",
      "memory usage: 155.2+ MB\n"
     ]
    }
   ],
   "source": [
    "accepted.info()"
   ]
  },
  {
   "cell_type": "code",
   "execution_count": 4,
   "metadata": {},
   "outputs": [
    {
     "name": "stdout",
     "output_type": "stream",
     "text": [
      "<class 'pandas.core.frame.DataFrame'>\n",
      "RangeIndex: 1048575 entries, 0 to 1048574\n",
      "Data columns (total 9 columns):\n",
      " #   Column                Non-Null Count    Dtype  \n",
      "---  ------                --------------    -----  \n",
      " 0   Amount Requested      1048575 non-null  float64\n",
      " 1   Application Date      1048575 non-null  object \n",
      " 2   Loan Title            1048546 non-null  object \n",
      " 3   Risk_Score            781631 non-null   float64\n",
      " 4   Debt-To-Income Ratio  1048575 non-null  object \n",
      " 5   Zip Code              1048531 non-null  object \n",
      " 6   State                 1048554 non-null  object \n",
      " 7   Employment Length     1026235 non-null  object \n",
      " 8   Policy Code           1048575 non-null  int64  \n",
      "dtypes: float64(2), int64(1), object(6)\n",
      "memory usage: 72.0+ MB\n"
     ]
    }
   ],
   "source": [
    "rejected.info()"
   ]
  },
  {
   "cell_type": "markdown",
   "metadata": {},
   "source": [
    "missingness"
   ]
  },
  {
   "cell_type": "code",
   "execution_count": 5,
   "metadata": {},
   "outputs": [
    {
     "name": "stdout",
     "output_type": "stream",
     "text": [
      "loan_amnt: 33\n",
      "issue_d: 33\n",
      "title: 23358\n",
      "last_fico_range_high: 33\n",
      "dti: 1744\n",
      "zip_code: 34\n",
      "addr_state: 33\n",
      "emp_length: 146940\n",
      "policy_code: 33\n"
     ]
    }
   ],
   "source": [
    "# accepted\n",
    "for col in accepted.columns:\n",
    "    print(f'{col}: {accepted[col].isnull().sum()}')"
   ]
  },
  {
   "cell_type": "code",
   "execution_count": 6,
   "metadata": {},
   "outputs": [
    {
     "name": "stdout",
     "output_type": "stream",
     "text": [
      "Amount Requested: 0\n",
      "Application Date: 0\n",
      "Loan Title: 29\n",
      "Risk_Score: 266944\n",
      "Debt-To-Income Ratio: 0\n",
      "Zip Code: 44\n",
      "State: 21\n",
      "Employment Length: 22340\n",
      "Policy Code: 0\n"
     ]
    }
   ],
   "source": [
    "# rejected\n",
    "for col in rejected.columns:\n",
    "    print(f'{col}: {rejected[col].isnull().sum()}')"
   ]
  },
  {
   "cell_type": "markdown",
   "metadata": {},
   "source": [
    "accepted df cleaning"
   ]
  },
  {
   "cell_type": "code",
   "execution_count": 7,
   "metadata": {},
   "outputs": [],
   "source": [
    "accepted_df = accepted.copy()\n",
    "\n",
    "accepted_df['title'] = accepted_df['title'].str.replace('_', ' ').str.lower()\n",
    "\n",
    "accepted_df['dti'] = accepted_df['dti']/100\n",
    "\n",
    "accepted_df.dropna(subset = ['loan_amnt', 'issue_d'], inplace = True)\n",
    "accepted_df['year'] = accepted_df['issue_d'].str[-4:].astype('int')\n",
    "\n",
    "accepted_df['status'] = 1\n",
    "\n",
    "accepted_df.drop(['issue_d'],axis = 1, inplace = True)\n",
    "\n",
    "accepted_df = accepted_df.rename(columns = {'loan_amnt':'amount', 'title':'title',\n",
    "                                            'last_fico_range_high':'risk_score','zip_code':'zip', 'addr_state':'state',\n",
    "                                            'emp_length':'length_of_emp','dti':'debt_to_income_ratio',\n",
    "                                            'policy_code':'policy_code','year':'year','status':'status'})"
   ]
  },
  {
   "cell_type": "code",
   "execution_count": 8,
   "metadata": {
    "scrolled": false
   },
   "outputs": [
    {
     "data": {
      "text/html": [
       "<div>\n",
       "<style scoped>\n",
       "    .dataframe tbody tr th:only-of-type {\n",
       "        vertical-align: middle;\n",
       "    }\n",
       "\n",
       "    .dataframe tbody tr th {\n",
       "        vertical-align: top;\n",
       "    }\n",
       "\n",
       "    .dataframe thead th {\n",
       "        text-align: right;\n",
       "    }\n",
       "</style>\n",
       "<table border=\"1\" class=\"dataframe\">\n",
       "  <thead>\n",
       "    <tr style=\"text-align: right;\">\n",
       "      <th></th>\n",
       "      <th>amount</th>\n",
       "      <th>title</th>\n",
       "      <th>risk_score</th>\n",
       "      <th>debt_to_income_ratio</th>\n",
       "      <th>zip</th>\n",
       "      <th>state</th>\n",
       "      <th>length_of_emp</th>\n",
       "      <th>policy_code</th>\n",
       "      <th>year</th>\n",
       "      <th>status</th>\n",
       "    </tr>\n",
       "  </thead>\n",
       "  <tbody>\n",
       "    <tr>\n",
       "      <th>1698739</th>\n",
       "      <td>5950.0</td>\n",
       "      <td>debt consolidation</td>\n",
       "      <td>609.0</td>\n",
       "      <td>0.2225</td>\n",
       "      <td>794xx</td>\n",
       "      <td>TX</td>\n",
       "      <td>2 years</td>\n",
       "      <td>1.0</td>\n",
       "      <td>2017</td>\n",
       "      <td>1</td>\n",
       "    </tr>\n",
       "    <tr>\n",
       "      <th>1276047</th>\n",
       "      <td>10000.0</td>\n",
       "      <td>debt consolidation</td>\n",
       "      <td>569.0</td>\n",
       "      <td>0.1169</td>\n",
       "      <td>605xx</td>\n",
       "      <td>IL</td>\n",
       "      <td>1 year</td>\n",
       "      <td>1.0</td>\n",
       "      <td>2014</td>\n",
       "      <td>1</td>\n",
       "    </tr>\n",
       "    <tr>\n",
       "      <th>1996157</th>\n",
       "      <td>5200.0</td>\n",
       "      <td>debt consolidation</td>\n",
       "      <td>734.0</td>\n",
       "      <td>0.1309</td>\n",
       "      <td>532xx</td>\n",
       "      <td>WI</td>\n",
       "      <td>&lt; 1 year</td>\n",
       "      <td>1.0</td>\n",
       "      <td>2016</td>\n",
       "      <td>1</td>\n",
       "    </tr>\n",
       "    <tr>\n",
       "      <th>1135765</th>\n",
       "      <td>15000.0</td>\n",
       "      <td>debt consolidation</td>\n",
       "      <td>544.0</td>\n",
       "      <td>0.1811</td>\n",
       "      <td>115xx</td>\n",
       "      <td>NY</td>\n",
       "      <td>6 years</td>\n",
       "      <td>1.0</td>\n",
       "      <td>2014</td>\n",
       "      <td>1</td>\n",
       "    </tr>\n",
       "    <tr>\n",
       "      <th>1428331</th>\n",
       "      <td>3000.0</td>\n",
       "      <td>credit card refinancing</td>\n",
       "      <td>739.0</td>\n",
       "      <td>0.2279</td>\n",
       "      <td>955xx</td>\n",
       "      <td>CA</td>\n",
       "      <td>5 years</td>\n",
       "      <td>1.0</td>\n",
       "      <td>2018</td>\n",
       "      <td>1</td>\n",
       "    </tr>\n",
       "  </tbody>\n",
       "</table>\n",
       "</div>"
      ],
      "text/plain": [
       "          amount                    title  risk_score  debt_to_income_ratio  \\\n",
       "1698739   5950.0       debt consolidation       609.0                0.2225   \n",
       "1276047  10000.0       debt consolidation       569.0                0.1169   \n",
       "1996157   5200.0       debt consolidation       734.0                0.1309   \n",
       "1135765  15000.0       debt consolidation       544.0                0.1811   \n",
       "1428331   3000.0  credit card refinancing       739.0                0.2279   \n",
       "\n",
       "           zip state length_of_emp  policy_code  year  status  \n",
       "1698739  794xx    TX       2 years          1.0  2017       1  \n",
       "1276047  605xx    IL        1 year          1.0  2014       1  \n",
       "1996157  532xx    WI      < 1 year          1.0  2016       1  \n",
       "1135765  115xx    NY       6 years          1.0  2014       1  \n",
       "1428331  955xx    CA       5 years          1.0  2018       1  "
      ]
     },
     "execution_count": 8,
     "metadata": {},
     "output_type": "execute_result"
    }
   ],
   "source": [
    "accepted_df.sample(5)"
   ]
  },
  {
   "cell_type": "code",
   "execution_count": 9,
   "metadata": {},
   "outputs": [
    {
     "name": "stdout",
     "output_type": "stream",
     "text": [
      "<class 'pandas.core.frame.DataFrame'>\n",
      "Int64Index: 2260668 entries, 0 to 2260698\n",
      "Data columns (total 10 columns):\n",
      " #   Column                Dtype  \n",
      "---  ------                -----  \n",
      " 0   amount                float64\n",
      " 1   title                 object \n",
      " 2   risk_score            float64\n",
      " 3   debt_to_income_ratio  float64\n",
      " 4   zip                   object \n",
      " 5   state                 object \n",
      " 6   length_of_emp         object \n",
      " 7   policy_code           float64\n",
      " 8   year                  int32  \n",
      " 9   status                int64  \n",
      "dtypes: float64(4), int32(1), int64(1), object(4)\n",
      "memory usage: 181.1+ MB\n"
     ]
    }
   ],
   "source": [
    "accepted_df.info()"
   ]
  },
  {
   "cell_type": "markdown",
   "metadata": {},
   "source": [
    "rejected df cleaning"
   ]
  },
  {
   "cell_type": "code",
   "execution_count": 10,
   "metadata": {},
   "outputs": [],
   "source": [
    "rejected_df = rejected.copy()\n",
    "\n",
    "rejected_df['Loan Title'] = rejected_df['Loan Title'].str.replace('_', ' ').str.lower()\n",
    "\n",
    "rejected_df['year'] = rejected_df['Application Date'].str[-4:].astype('int')\n",
    "\n",
    "rejected_df['debt_to_income_ratio'] = rejected_df['Debt-To-Income Ratio'].str.replace('%','').astype('float')/100\n",
    "\n",
    "rejected_df['status'] = 0\n",
    "\n",
    "rejected_df = rejected_df.drop(['Application Date','Debt-To-Income Ratio'], axis = 1)\n",
    "\n",
    "rejected_df = rejected_df.rename(columns = {'Amount Requested':'amount', 'Loan Title':'title',\n",
    "                                            'Risk_Score':'risk_score','Zip Code':'zip', 'State':'state',\n",
    "                                            'Employment Length':'length_of_emp',\n",
    "                                            'Policy Code':'policy_code','year':'year','status':'status'})"
   ]
  },
  {
   "cell_type": "code",
   "execution_count": 11,
   "metadata": {},
   "outputs": [
    {
     "data": {
      "text/html": [
       "<div>\n",
       "<style scoped>\n",
       "    .dataframe tbody tr th:only-of-type {\n",
       "        vertical-align: middle;\n",
       "    }\n",
       "\n",
       "    .dataframe tbody tr th {\n",
       "        vertical-align: top;\n",
       "    }\n",
       "\n",
       "    .dataframe thead th {\n",
       "        text-align: right;\n",
       "    }\n",
       "</style>\n",
       "<table border=\"1\" class=\"dataframe\">\n",
       "  <thead>\n",
       "    <tr style=\"text-align: right;\">\n",
       "      <th></th>\n",
       "      <th>amount</th>\n",
       "      <th>title</th>\n",
       "      <th>risk_score</th>\n",
       "      <th>zip</th>\n",
       "      <th>state</th>\n",
       "      <th>length_of_emp</th>\n",
       "      <th>policy_code</th>\n",
       "      <th>year</th>\n",
       "      <th>debt_to_income_ratio</th>\n",
       "      <th>status</th>\n",
       "    </tr>\n",
       "  </thead>\n",
       "  <tbody>\n",
       "    <tr>\n",
       "      <th>1008639</th>\n",
       "      <td>10000.0</td>\n",
       "      <td>house</td>\n",
       "      <td>NaN</td>\n",
       "      <td>785xx</td>\n",
       "      <td>TX</td>\n",
       "      <td>&lt; 1 year</td>\n",
       "      <td>0</td>\n",
       "      <td>2016</td>\n",
       "      <td>0.0129</td>\n",
       "      <td>0</td>\n",
       "    </tr>\n",
       "    <tr>\n",
       "      <th>252432</th>\n",
       "      <td>10000.0</td>\n",
       "      <td>major purchase</td>\n",
       "      <td>711.0</td>\n",
       "      <td>456xx</td>\n",
       "      <td>OH</td>\n",
       "      <td>&lt; 1 year</td>\n",
       "      <td>0</td>\n",
       "      <td>2011</td>\n",
       "      <td>0.1334</td>\n",
       "      <td>0</td>\n",
       "    </tr>\n",
       "    <tr>\n",
       "      <th>61609</th>\n",
       "      <td>10000.0</td>\n",
       "      <td>education and schooling</td>\n",
       "      <td>NaN</td>\n",
       "      <td>959xx</td>\n",
       "      <td>CA</td>\n",
       "      <td>&lt; 1 year</td>\n",
       "      <td>0</td>\n",
       "      <td>2009</td>\n",
       "      <td>-0.0100</td>\n",
       "      <td>0</td>\n",
       "    </tr>\n",
       "    <tr>\n",
       "      <th>195437</th>\n",
       "      <td>16000.0</td>\n",
       "      <td>car</td>\n",
       "      <td>734.0</td>\n",
       "      <td>300xx</td>\n",
       "      <td>GA</td>\n",
       "      <td>8 years</td>\n",
       "      <td>0</td>\n",
       "      <td>2010</td>\n",
       "      <td>0.2679</td>\n",
       "      <td>0</td>\n",
       "    </tr>\n",
       "    <tr>\n",
       "      <th>382654</th>\n",
       "      <td>20000.0</td>\n",
       "      <td>car</td>\n",
       "      <td>0.0</td>\n",
       "      <td>914xx</td>\n",
       "      <td>CA</td>\n",
       "      <td>&lt; 1 year</td>\n",
       "      <td>0</td>\n",
       "      <td>2011</td>\n",
       "      <td>0.0108</td>\n",
       "      <td>0</td>\n",
       "    </tr>\n",
       "  </tbody>\n",
       "</table>\n",
       "</div>"
      ],
      "text/plain": [
       "          amount                    title  risk_score    zip state  \\\n",
       "1008639  10000.0                    house         NaN  785xx    TX   \n",
       "252432   10000.0           major purchase       711.0  456xx    OH   \n",
       "61609    10000.0  education and schooling         NaN  959xx    CA   \n",
       "195437   16000.0                      car       734.0  300xx    GA   \n",
       "382654   20000.0                      car         0.0  914xx    CA   \n",
       "\n",
       "        length_of_emp  policy_code  year  debt_to_income_ratio  status  \n",
       "1008639      < 1 year            0  2016                0.0129       0  \n",
       "252432       < 1 year            0  2011                0.1334       0  \n",
       "61609        < 1 year            0  2009               -0.0100       0  \n",
       "195437        8 years            0  2010                0.2679       0  \n",
       "382654       < 1 year            0  2011                0.0108       0  "
      ]
     },
     "execution_count": 11,
     "metadata": {},
     "output_type": "execute_result"
    }
   ],
   "source": [
    "rejected_df.sample(5)"
   ]
  },
  {
   "cell_type": "code",
   "execution_count": 12,
   "metadata": {
    "scrolled": true
   },
   "outputs": [
    {
     "name": "stdout",
     "output_type": "stream",
     "text": [
      "<class 'pandas.core.frame.DataFrame'>\n",
      "RangeIndex: 1048575 entries, 0 to 1048574\n",
      "Data columns (total 10 columns):\n",
      " #   Column                Non-Null Count    Dtype  \n",
      "---  ------                --------------    -----  \n",
      " 0   amount                1048575 non-null  float64\n",
      " 1   title                 1048546 non-null  object \n",
      " 2   risk_score            781631 non-null   float64\n",
      " 3   zip                   1048531 non-null  object \n",
      " 4   state                 1048554 non-null  object \n",
      " 5   length_of_emp         1026235 non-null  object \n",
      " 6   policy_code           1048575 non-null  int64  \n",
      " 7   year                  1048575 non-null  int32  \n",
      " 8   debt_to_income_ratio  1048575 non-null  float64\n",
      " 9   status                1048575 non-null  int64  \n",
      "dtypes: float64(3), int32(1), int64(2), object(4)\n",
      "memory usage: 76.0+ MB\n"
     ]
    }
   ],
   "source": [
    "rejected_df.info()"
   ]
  },
  {
   "cell_type": "markdown",
   "metadata": {},
   "source": [
    "accepted_df + rejected_df"
   ]
  },
  {
   "cell_type": "code",
   "execution_count": 13,
   "metadata": {},
   "outputs": [],
   "source": [
    "lc_df = pd.concat([accepted_df, rejected_df], axis = 0)"
   ]
  },
  {
   "cell_type": "code",
   "execution_count": 14,
   "metadata": {},
   "outputs": [
    {
     "data": {
      "text/html": [
       "<div>\n",
       "<style scoped>\n",
       "    .dataframe tbody tr th:only-of-type {\n",
       "        vertical-align: middle;\n",
       "    }\n",
       "\n",
       "    .dataframe tbody tr th {\n",
       "        vertical-align: top;\n",
       "    }\n",
       "\n",
       "    .dataframe thead th {\n",
       "        text-align: right;\n",
       "    }\n",
       "</style>\n",
       "<table border=\"1\" class=\"dataframe\">\n",
       "  <thead>\n",
       "    <tr style=\"text-align: right;\">\n",
       "      <th></th>\n",
       "      <th>amount</th>\n",
       "      <th>title</th>\n",
       "      <th>risk_score</th>\n",
       "      <th>debt_to_income_ratio</th>\n",
       "      <th>zip</th>\n",
       "      <th>state</th>\n",
       "      <th>length_of_emp</th>\n",
       "      <th>policy_code</th>\n",
       "      <th>year</th>\n",
       "      <th>status</th>\n",
       "    </tr>\n",
       "  </thead>\n",
       "  <tbody>\n",
       "    <tr>\n",
       "      <th>584752</th>\n",
       "      <td>4200.0</td>\n",
       "      <td>credit card refinancing</td>\n",
       "      <td>714.0</td>\n",
       "      <td>0.1743</td>\n",
       "      <td>403xx</td>\n",
       "      <td>KY</td>\n",
       "      <td>2 years</td>\n",
       "      <td>1.0</td>\n",
       "      <td>2017</td>\n",
       "      <td>1</td>\n",
       "    </tr>\n",
       "    <tr>\n",
       "      <th>48263</th>\n",
       "      <td>10000.0</td>\n",
       "      <td>at home children's clothing business</td>\n",
       "      <td>622.0</td>\n",
       "      <td>0.1347</td>\n",
       "      <td>018xx</td>\n",
       "      <td>MA</td>\n",
       "      <td>9 years</td>\n",
       "      <td>0.0</td>\n",
       "      <td>2009</td>\n",
       "      <td>0</td>\n",
       "    </tr>\n",
       "    <tr>\n",
       "      <th>495774</th>\n",
       "      <td>4500.0</td>\n",
       "      <td>credit card refinancing</td>\n",
       "      <td>634.0</td>\n",
       "      <td>0.1573</td>\n",
       "      <td>460xx</td>\n",
       "      <td>IN</td>\n",
       "      <td>6 years</td>\n",
       "      <td>1.0</td>\n",
       "      <td>2018</td>\n",
       "      <td>1</td>\n",
       "    </tr>\n",
       "    <tr>\n",
       "      <th>755427</th>\n",
       "      <td>3000.0</td>\n",
       "      <td>other</td>\n",
       "      <td>471.0</td>\n",
       "      <td>0.0156</td>\n",
       "      <td>925xx</td>\n",
       "      <td>CA</td>\n",
       "      <td>&lt; 1 year</td>\n",
       "      <td>0.0</td>\n",
       "      <td>2012</td>\n",
       "      <td>0</td>\n",
       "    </tr>\n",
       "    <tr>\n",
       "      <th>884491</th>\n",
       "      <td>2500.0</td>\n",
       "      <td>debt consolidation</td>\n",
       "      <td>NaN</td>\n",
       "      <td>-0.0100</td>\n",
       "      <td>170xx</td>\n",
       "      <td>PA</td>\n",
       "      <td>&lt; 1 year</td>\n",
       "      <td>0.0</td>\n",
       "      <td>2016</td>\n",
       "      <td>0</td>\n",
       "    </tr>\n",
       "  </tbody>\n",
       "</table>\n",
       "</div>"
      ],
      "text/plain": [
       "         amount                                 title  risk_score  \\\n",
       "584752   4200.0               credit card refinancing       714.0   \n",
       "48263   10000.0  at home children's clothing business       622.0   \n",
       "495774   4500.0               credit card refinancing       634.0   \n",
       "755427   3000.0                                 other       471.0   \n",
       "884491   2500.0                    debt consolidation         NaN   \n",
       "\n",
       "        debt_to_income_ratio    zip state length_of_emp  policy_code  year  \\\n",
       "584752                0.1743  403xx    KY       2 years          1.0  2017   \n",
       "48263                 0.1347  018xx    MA       9 years          0.0  2009   \n",
       "495774                0.1573  460xx    IN       6 years          1.0  2018   \n",
       "755427                0.0156  925xx    CA      < 1 year          0.0  2012   \n",
       "884491               -0.0100  170xx    PA      < 1 year          0.0  2016   \n",
       "\n",
       "        status  \n",
       "584752       1  \n",
       "48263        0  \n",
       "495774       1  \n",
       "755427       0  \n",
       "884491       0  "
      ]
     },
     "execution_count": 14,
     "metadata": {},
     "output_type": "execute_result"
    }
   ],
   "source": [
    "lc_df.sample(5)"
   ]
  },
  {
   "cell_type": "markdown",
   "metadata": {},
   "source": [
    "adding region columns"
   ]
  },
  {
   "cell_type": "code",
   "execution_count": 15,
   "metadata": {},
   "outputs": [],
   "source": [
    "region = pd.read_csv('../data/states.csv')"
   ]
  },
  {
   "cell_type": "code",
   "execution_count": 16,
   "metadata": {},
   "outputs": [
    {
     "data": {
      "text/html": [
       "<div>\n",
       "<style scoped>\n",
       "    .dataframe tbody tr th:only-of-type {\n",
       "        vertical-align: middle;\n",
       "    }\n",
       "\n",
       "    .dataframe tbody tr th {\n",
       "        vertical-align: top;\n",
       "    }\n",
       "\n",
       "    .dataframe thead th {\n",
       "        text-align: right;\n",
       "    }\n",
       "</style>\n",
       "<table border=\"1\" class=\"dataframe\">\n",
       "  <thead>\n",
       "    <tr style=\"text-align: right;\">\n",
       "      <th></th>\n",
       "      <th>State</th>\n",
       "      <th>State Code</th>\n",
       "      <th>Region</th>\n",
       "      <th>Division</th>\n",
       "    </tr>\n",
       "  </thead>\n",
       "  <tbody>\n",
       "    <tr>\n",
       "      <th>2</th>\n",
       "      <td>Arkansas</td>\n",
       "      <td>AR</td>\n",
       "      <td>South</td>\n",
       "      <td>West South Central</td>\n",
       "    </tr>\n",
       "    <tr>\n",
       "      <th>28</th>\n",
       "      <td>North Dakota</td>\n",
       "      <td>ND</td>\n",
       "      <td>Midwest</td>\n",
       "      <td>West North Central</td>\n",
       "    </tr>\n",
       "    <tr>\n",
       "      <th>30</th>\n",
       "      <td>New Hampshire</td>\n",
       "      <td>NH</td>\n",
       "      <td>Northeast</td>\n",
       "      <td>New England</td>\n",
       "    </tr>\n",
       "    <tr>\n",
       "      <th>23</th>\n",
       "      <td>Minnesota</td>\n",
       "      <td>MN</td>\n",
       "      <td>Midwest</td>\n",
       "      <td>West North Central</td>\n",
       "    </tr>\n",
       "    <tr>\n",
       "      <th>9</th>\n",
       "      <td>Florida</td>\n",
       "      <td>FL</td>\n",
       "      <td>South</td>\n",
       "      <td>South Atlantic</td>\n",
       "    </tr>\n",
       "  </tbody>\n",
       "</table>\n",
       "</div>"
      ],
      "text/plain": [
       "            State State Code     Region            Division\n",
       "2        Arkansas         AR      South  West South Central\n",
       "28   North Dakota         ND    Midwest  West North Central\n",
       "30  New Hampshire         NH  Northeast         New England\n",
       "23      Minnesota         MN    Midwest  West North Central\n",
       "9         Florida         FL      South      South Atlantic"
      ]
     },
     "execution_count": 16,
     "metadata": {},
     "output_type": "execute_result"
    }
   ],
   "source": [
    "region.sample(5)"
   ]
  },
  {
   "cell_type": "code",
   "execution_count": 17,
   "metadata": {},
   "outputs": [],
   "source": [
    "lc_df = lc_df.merge(region, how = 'left', left_on = 'state', right_on = 'State Code')"
   ]
  },
  {
   "cell_type": "code",
   "execution_count": 18,
   "metadata": {
    "scrolled": false
   },
   "outputs": [],
   "source": [
    "lc_df.drop(['zip','State','State Code'], axis = 1, inplace = True)"
   ]
  },
  {
   "cell_type": "code",
   "execution_count": 19,
   "metadata": {},
   "outputs": [],
   "source": [
    "lc_df.columns = lc_df.columns.str.lower()"
   ]
  },
  {
   "cell_type": "code",
   "execution_count": 20,
   "metadata": {},
   "outputs": [
    {
     "name": "stdout",
     "output_type": "stream",
     "text": [
      "amount: 0\n",
      "title: 23354\n",
      "risk_score: 266944\n",
      "debt_to_income_ratio: 1711\n",
      "state: 21\n",
      "length_of_emp: 169247\n",
      "policy_code: 0\n",
      "year: 0\n",
      "status: 0\n",
      "region: 21\n",
      "division: 21\n"
     ]
    }
   ],
   "source": [
    "for col in lc_df.columns:\n",
    "    print(f'{col}: {lc_df[col].isnull().sum()}')"
   ]
  },
  {
   "cell_type": "code",
   "execution_count": 21,
   "metadata": {},
   "outputs": [],
   "source": [
    "lc_df.dropna(subset = ['state'], inplace = True)"
   ]
  },
  {
   "cell_type": "code",
   "execution_count": 22,
   "metadata": {},
   "outputs": [
    {
     "data": {
      "text/html": [
       "<div>\n",
       "<style scoped>\n",
       "    .dataframe tbody tr th:only-of-type {\n",
       "        vertical-align: middle;\n",
       "    }\n",
       "\n",
       "    .dataframe tbody tr th {\n",
       "        vertical-align: top;\n",
       "    }\n",
       "\n",
       "    .dataframe thead th {\n",
       "        text-align: right;\n",
       "    }\n",
       "</style>\n",
       "<table border=\"1\" class=\"dataframe\">\n",
       "  <thead>\n",
       "    <tr style=\"text-align: right;\">\n",
       "      <th></th>\n",
       "      <th>amount</th>\n",
       "      <th>title</th>\n",
       "      <th>risk_score</th>\n",
       "      <th>debt_to_income_ratio</th>\n",
       "      <th>state</th>\n",
       "      <th>length_of_emp</th>\n",
       "      <th>policy_code</th>\n",
       "      <th>year</th>\n",
       "      <th>status</th>\n",
       "      <th>region</th>\n",
       "      <th>division</th>\n",
       "    </tr>\n",
       "  </thead>\n",
       "  <tbody>\n",
       "    <tr>\n",
       "      <th>1613621</th>\n",
       "      <td>12000.0</td>\n",
       "      <td>wedding loan</td>\n",
       "      <td>684.0</td>\n",
       "      <td>0.1909</td>\n",
       "      <td>FL</td>\n",
       "      <td>5 years</td>\n",
       "      <td>1.0</td>\n",
       "      <td>2011</td>\n",
       "      <td>1</td>\n",
       "      <td>South</td>\n",
       "      <td>South Atlantic</td>\n",
       "    </tr>\n",
       "    <tr>\n",
       "      <th>731039</th>\n",
       "      <td>30000.0</td>\n",
       "      <td>home buying</td>\n",
       "      <td>544.0</td>\n",
       "      <td>0.1345</td>\n",
       "      <td>TX</td>\n",
       "      <td>10+ years</td>\n",
       "      <td>1.0</td>\n",
       "      <td>2016</td>\n",
       "      <td>1</td>\n",
       "      <td>South</td>\n",
       "      <td>West South Central</td>\n",
       "    </tr>\n",
       "    <tr>\n",
       "      <th>2345570</th>\n",
       "      <td>25000.0</td>\n",
       "      <td>small business</td>\n",
       "      <td>469.0</td>\n",
       "      <td>1.1043</td>\n",
       "      <td>MN</td>\n",
       "      <td>&lt; 1 year</td>\n",
       "      <td>0.0</td>\n",
       "      <td>2009</td>\n",
       "      <td>0</td>\n",
       "      <td>Midwest</td>\n",
       "      <td>West North Central</td>\n",
       "    </tr>\n",
       "    <tr>\n",
       "      <th>3286917</th>\n",
       "      <td>7000.0</td>\n",
       "      <td>car</td>\n",
       "      <td>NaN</td>\n",
       "      <td>0.0000</td>\n",
       "      <td>NY</td>\n",
       "      <td>&lt; 1 year</td>\n",
       "      <td>0.0</td>\n",
       "      <td>2016</td>\n",
       "      <td>0</td>\n",
       "      <td>Northeast</td>\n",
       "      <td>Middle Atlantic</td>\n",
       "    </tr>\n",
       "    <tr>\n",
       "      <th>2903587</th>\n",
       "      <td>5000.0</td>\n",
       "      <td>other</td>\n",
       "      <td>497.0</td>\n",
       "      <td>0.0000</td>\n",
       "      <td>NY</td>\n",
       "      <td>&lt; 1 year</td>\n",
       "      <td>0.0</td>\n",
       "      <td>2012</td>\n",
       "      <td>0</td>\n",
       "      <td>Northeast</td>\n",
       "      <td>Middle Atlantic</td>\n",
       "    </tr>\n",
       "  </tbody>\n",
       "</table>\n",
       "</div>"
      ],
      "text/plain": [
       "          amount           title  risk_score  debt_to_income_ratio state  \\\n",
       "1613621  12000.0    wedding loan       684.0                0.1909    FL   \n",
       "731039   30000.0     home buying       544.0                0.1345    TX   \n",
       "2345570  25000.0  small business       469.0                1.1043    MN   \n",
       "3286917   7000.0             car         NaN                0.0000    NY   \n",
       "2903587   5000.0           other       497.0                0.0000    NY   \n",
       "\n",
       "        length_of_emp  policy_code  year  status     region  \\\n",
       "1613621       5 years          1.0  2011       1      South   \n",
       "731039      10+ years          1.0  2016       1      South   \n",
       "2345570      < 1 year          0.0  2009       0    Midwest   \n",
       "3286917      < 1 year          0.0  2016       0  Northeast   \n",
       "2903587      < 1 year          0.0  2012       0  Northeast   \n",
       "\n",
       "                   division  \n",
       "1613621      South Atlantic  \n",
       "731039   West South Central  \n",
       "2345570  West North Central  \n",
       "3286917     Middle Atlantic  \n",
       "2903587     Middle Atlantic  "
      ]
     },
     "execution_count": 22,
     "metadata": {},
     "output_type": "execute_result"
    }
   ],
   "source": [
    "lc_df.sample(5)"
   ]
  },
  {
   "cell_type": "code",
   "execution_count": 23,
   "metadata": {},
   "outputs": [
    {
     "name": "stdout",
     "output_type": "stream",
     "text": [
      "<class 'pandas.core.frame.DataFrame'>\n",
      "Int64Index: 3309222 entries, 0 to 3309242\n",
      "Data columns (total 11 columns):\n",
      " #   Column                Dtype  \n",
      "---  ------                -----  \n",
      " 0   amount                float64\n",
      " 1   title                 object \n",
      " 2   risk_score            float64\n",
      " 3   debt_to_income_ratio  float64\n",
      " 4   state                 object \n",
      " 5   length_of_emp         object \n",
      " 6   policy_code           float64\n",
      " 7   year                  int32  \n",
      " 8   status                int64  \n",
      " 9   region                object \n",
      " 10  division              object \n",
      "dtypes: float64(4), int32(1), int64(1), object(5)\n",
      "memory usage: 290.3+ MB\n"
     ]
    }
   ],
   "source": [
    "lc_df.info()"
   ]
  },
  {
   "cell_type": "markdown",
   "metadata": {},
   "source": [
    "export"
   ]
  },
  {
   "cell_type": "code",
   "execution_count": 24,
   "metadata": {},
   "outputs": [],
   "source": [
    "lc_df.to_csv('../data/lc_cleaned.csv', index = False)"
   ]
  },
  {
   "cell_type": "code",
   "execution_count": null,
   "metadata": {},
   "outputs": [],
   "source": []
  }
 ],
 "metadata": {
  "kernelspec": {
   "display_name": "Python 3",
   "language": "python",
   "name": "python3"
  },
  "language_info": {
   "codemirror_mode": {
    "name": "ipython",
    "version": 3
   },
   "file_extension": ".py",
   "mimetype": "text/x-python",
   "name": "python",
   "nbconvert_exporter": "python",
   "pygments_lexer": "ipython3",
   "version": "3.7.6"
  }
 },
 "nbformat": 4,
 "nbformat_minor": 4
}
