{
 "cells": [
  {
   "cell_type": "code",
   "execution_count": 1,
   "metadata": {},
   "outputs": [],
   "source": [
    "import pandas as pd\n",
    "import numpy as np"
   ]
  },
  {
   "cell_type": "code",
   "execution_count": 2,
   "metadata": {},
   "outputs": [],
   "source": [
    "lc_df = pd.read_csv('../data/lc_cleaned.csv').drop(['title','state','policy_code','division'], axis = 1)\n",
    "lc_eo2012 = lc_df[lc_df['year']<=2012]\n",
    "lc_eo2012 = lc_eo2012.sort_values(['year','length_of_emp'], ascending = [True, False]).\\\n",
    "            reset_index().drop(['index'], axis = 1)"
   ]
  },
  {
   "cell_type": "code",
   "execution_count": 3,
   "metadata": {
    "scrolled": true
   },
   "outputs": [
    {
     "data": {
      "text/plain": [
       "amount                      0\n",
       "risk_score              23927\n",
       "debt_to_income_ratio        0\n",
       "length_of_emp           11167\n",
       "year                        0\n",
       "status                      0\n",
       "region                      0\n",
       "dtype: int64"
      ]
     },
     "execution_count": 3,
     "metadata": {},
     "output_type": "execute_result"
    }
   ],
   "source": [
    "lc_eo2012.isnull().sum()"
   ]
  },
  {
   "cell_type": "code",
   "execution_count": 4,
   "metadata": {},
   "outputs": [
    {
     "data": {
      "text/html": [
       "<div>\n",
       "<style scoped>\n",
       "    .dataframe tbody tr th:only-of-type {\n",
       "        vertical-align: middle;\n",
       "    }\n",
       "\n",
       "    .dataframe tbody tr th {\n",
       "        vertical-align: top;\n",
       "    }\n",
       "\n",
       "    .dataframe thead th {\n",
       "        text-align: right;\n",
       "    }\n",
       "</style>\n",
       "<table border=\"1\" class=\"dataframe\">\n",
       "  <thead>\n",
       "    <tr style=\"text-align: right;\">\n",
       "      <th></th>\n",
       "      <th>amount</th>\n",
       "      <th>risk_score</th>\n",
       "      <th>debt_to_income_ratio</th>\n",
       "      <th>year</th>\n",
       "      <th>status</th>\n",
       "    </tr>\n",
       "  </thead>\n",
       "  <tbody>\n",
       "    <tr>\n",
       "      <th>count</th>\n",
       "      <td>11167.000000</td>\n",
       "      <td>11046.000000</td>\n",
       "      <td>11167.000000</td>\n",
       "      <td>11167.000000</td>\n",
       "      <td>11167.000000</td>\n",
       "    </tr>\n",
       "    <tr>\n",
       "      <th>mean</th>\n",
       "      <td>11919.244202</td>\n",
       "      <td>673.668749</td>\n",
       "      <td>10.104746</td>\n",
       "      <td>2011.224859</td>\n",
       "      <td>0.271962</td>\n",
       "    </tr>\n",
       "    <tr>\n",
       "      <th>std</th>\n",
       "      <td>9297.179228</td>\n",
       "      <td>137.025290</td>\n",
       "      <td>140.321002</td>\n",
       "      <td>0.845084</td>\n",
       "      <td>0.444990</td>\n",
       "    </tr>\n",
       "    <tr>\n",
       "      <th>min</th>\n",
       "      <td>1000.000000</td>\n",
       "      <td>0.000000</td>\n",
       "      <td>-0.010000</td>\n",
       "      <td>2008.000000</td>\n",
       "      <td>0.000000</td>\n",
       "    </tr>\n",
       "    <tr>\n",
       "      <th>25%</th>\n",
       "      <td>5000.000000</td>\n",
       "      <td>664.000000</td>\n",
       "      <td>0.054350</td>\n",
       "      <td>2010.000000</td>\n",
       "      <td>0.000000</td>\n",
       "    </tr>\n",
       "    <tr>\n",
       "      <th>50%</th>\n",
       "      <td>10000.000000</td>\n",
       "      <td>695.000000</td>\n",
       "      <td>0.130500</td>\n",
       "      <td>2011.000000</td>\n",
       "      <td>0.000000</td>\n",
       "    </tr>\n",
       "    <tr>\n",
       "      <th>75%</th>\n",
       "      <td>16250.000000</td>\n",
       "      <td>736.000000</td>\n",
       "      <td>0.210700</td>\n",
       "      <td>2012.000000</td>\n",
       "      <td>1.000000</td>\n",
       "    </tr>\n",
       "    <tr>\n",
       "      <th>max</th>\n",
       "      <td>35000.000000</td>\n",
       "      <td>850.000000</td>\n",
       "      <td>1999.980000</td>\n",
       "      <td>2012.000000</td>\n",
       "      <td>1.000000</td>\n",
       "    </tr>\n",
       "  </tbody>\n",
       "</table>\n",
       "</div>"
      ],
      "text/plain": [
       "             amount    risk_score  debt_to_income_ratio          year  \\\n",
       "count  11167.000000  11046.000000          11167.000000  11167.000000   \n",
       "mean   11919.244202    673.668749             10.104746   2011.224859   \n",
       "std     9297.179228    137.025290            140.321002      0.845084   \n",
       "min     1000.000000      0.000000             -0.010000   2008.000000   \n",
       "25%     5000.000000    664.000000              0.054350   2010.000000   \n",
       "50%    10000.000000    695.000000              0.130500   2011.000000   \n",
       "75%    16250.000000    736.000000              0.210700   2012.000000   \n",
       "max    35000.000000    850.000000           1999.980000   2012.000000   \n",
       "\n",
       "             status  \n",
       "count  11167.000000  \n",
       "mean       0.271962  \n",
       "std        0.444990  \n",
       "min        0.000000  \n",
       "25%        0.000000  \n",
       "50%        0.000000  \n",
       "75%        1.000000  \n",
       "max        1.000000  "
      ]
     },
     "execution_count": 4,
     "metadata": {},
     "output_type": "execute_result"
    }
   ],
   "source": [
    "lc_eo2012[lc_eo2012['length_of_emp'].isnull()].describe()"
   ]
  },
  {
   "cell_type": "code",
   "execution_count": 5,
   "metadata": {},
   "outputs": [],
   "source": [
    "lc_eo2012.dropna(subset = ['length_of_emp'], inplace = True)"
   ]
  },
  {
   "cell_type": "code",
   "execution_count": 6,
   "metadata": {},
   "outputs": [
    {
     "data": {
      "text/html": [
       "<div>\n",
       "<style scoped>\n",
       "    .dataframe tbody tr th:only-of-type {\n",
       "        vertical-align: middle;\n",
       "    }\n",
       "\n",
       "    .dataframe tbody tr th {\n",
       "        vertical-align: top;\n",
       "    }\n",
       "\n",
       "    .dataframe thead th {\n",
       "        text-align: right;\n",
       "    }\n",
       "</style>\n",
       "<table border=\"1\" class=\"dataframe\">\n",
       "  <thead>\n",
       "    <tr style=\"text-align: right;\">\n",
       "      <th></th>\n",
       "      <th>amount</th>\n",
       "      <th>risk_score</th>\n",
       "      <th>debt_to_income_ratio</th>\n",
       "      <th>year</th>\n",
       "      <th>status</th>\n",
       "    </tr>\n",
       "  </thead>\n",
       "  <tbody>\n",
       "    <tr>\n",
       "      <th>count</th>\n",
       "      <td>23806.000000</td>\n",
       "      <td>0.0</td>\n",
       "      <td>23806.000000</td>\n",
       "      <td>23806.000000</td>\n",
       "      <td>23806.0</td>\n",
       "    </tr>\n",
       "    <tr>\n",
       "      <th>mean</th>\n",
       "      <td>11726.823266</td>\n",
       "      <td>NaN</td>\n",
       "      <td>107.678587</td>\n",
       "      <td>2009.996051</td>\n",
       "      <td>0.0</td>\n",
       "    </tr>\n",
       "    <tr>\n",
       "      <th>std</th>\n",
       "      <td>9378.244384</td>\n",
       "      <td>NaN</td>\n",
       "      <td>312.447729</td>\n",
       "      <td>1.251819</td>\n",
       "      <td>0.0</td>\n",
       "    </tr>\n",
       "    <tr>\n",
       "      <th>min</th>\n",
       "      <td>500.000000</td>\n",
       "      <td>NaN</td>\n",
       "      <td>-0.010000</td>\n",
       "      <td>2007.000000</td>\n",
       "      <td>0.0</td>\n",
       "    </tr>\n",
       "    <tr>\n",
       "      <th>25%</th>\n",
       "      <td>4000.000000</td>\n",
       "      <td>NaN</td>\n",
       "      <td>-0.010000</td>\n",
       "      <td>2009.000000</td>\n",
       "      <td>0.0</td>\n",
       "    </tr>\n",
       "    <tr>\n",
       "      <th>50%</th>\n",
       "      <td>10000.000000</td>\n",
       "      <td>NaN</td>\n",
       "      <td>-0.010000</td>\n",
       "      <td>2010.000000</td>\n",
       "      <td>0.0</td>\n",
       "    </tr>\n",
       "    <tr>\n",
       "      <th>75%</th>\n",
       "      <td>18700.000000</td>\n",
       "      <td>NaN</td>\n",
       "      <td>0.098500</td>\n",
       "      <td>2011.000000</td>\n",
       "      <td>0.0</td>\n",
       "    </tr>\n",
       "    <tr>\n",
       "      <th>max</th>\n",
       "      <td>90000.000000</td>\n",
       "      <td>NaN</td>\n",
       "      <td>1999.980000</td>\n",
       "      <td>2012.000000</td>\n",
       "      <td>0.0</td>\n",
       "    </tr>\n",
       "  </tbody>\n",
       "</table>\n",
       "</div>"
      ],
      "text/plain": [
       "             amount  risk_score  debt_to_income_ratio          year   status\n",
       "count  23806.000000         0.0          23806.000000  23806.000000  23806.0\n",
       "mean   11726.823266         NaN            107.678587   2009.996051      0.0\n",
       "std     9378.244384         NaN            312.447729      1.251819      0.0\n",
       "min      500.000000         NaN             -0.010000   2007.000000      0.0\n",
       "25%     4000.000000         NaN             -0.010000   2009.000000      0.0\n",
       "50%    10000.000000         NaN             -0.010000   2010.000000      0.0\n",
       "75%    18700.000000         NaN              0.098500   2011.000000      0.0\n",
       "max    90000.000000         NaN           1999.980000   2012.000000      0.0"
      ]
     },
     "execution_count": 6,
     "metadata": {},
     "output_type": "execute_result"
    }
   ],
   "source": [
    "lc_eo2012[lc_eo2012['risk_score'].isnull()].describe()"
   ]
  },
  {
   "cell_type": "code",
   "execution_count": 7,
   "metadata": {},
   "outputs": [],
   "source": [
    "lc_eo2012.loc[lc_eo2012['risk_score'].isnull(), 'risk_score'] = 0"
   ]
  },
  {
   "cell_type": "code",
   "execution_count": 8,
   "metadata": {},
   "outputs": [
    {
     "data": {
      "text/plain": [
       "amount                  0\n",
       "risk_score              0\n",
       "debt_to_income_ratio    0\n",
       "length_of_emp           0\n",
       "year                    0\n",
       "status                  0\n",
       "region                  0\n",
       "dtype: int64"
      ]
     },
     "execution_count": 8,
     "metadata": {},
     "output_type": "execute_result"
    }
   ],
   "source": [
    "lc_eo2012.isnull().sum()"
   ]
  },
  {
   "cell_type": "markdown",
   "metadata": {},
   "source": [
    "dummification"
   ]
  },
  {
   "cell_type": "code",
   "execution_count": 9,
   "metadata": {},
   "outputs": [
    {
     "data": {
      "text/plain": [
       "Index(['amount', 'risk_score', 'debt_to_income_ratio', 'year', 'status',\n",
       "       'length_of_emp_10+ years', 'length_of_emp_2 years',\n",
       "       'length_of_emp_3 years', 'length_of_emp_4 years',\n",
       "       'length_of_emp_5 years', 'length_of_emp_6 years',\n",
       "       'length_of_emp_7 years', 'length_of_emp_8 years',\n",
       "       'length_of_emp_9 years', 'length_of_emp_< 1 year', 'region_Northeast',\n",
       "       'region_South', 'region_West'],\n",
       "      dtype='object')"
      ]
     },
     "execution_count": 9,
     "metadata": {},
     "output_type": "execute_result"
    }
   ],
   "source": [
    "lc_dummies = pd.get_dummies(lc_eo2012, drop_first = True)\n",
    "lc_dummies.columns"
   ]
  },
  {
   "cell_type": "markdown",
   "metadata": {},
   "source": [
    "train test split"
   ]
  },
  {
   "cell_type": "code",
   "execution_count": 10,
   "metadata": {},
   "outputs": [],
   "source": [
    "from sklearn.model_selection import cross_val_score, cross_val_predict, GridSearchCV, train_test_split"
   ]
  },
  {
   "cell_type": "code",
   "execution_count": 11,
   "metadata": {},
   "outputs": [],
   "source": [
    "features = lc_dummies.drop(['status'], axis = 1)\n",
    "target = lc_dummies['status']"
   ]
  },
  {
   "cell_type": "code",
   "execution_count": 12,
   "metadata": {},
   "outputs": [],
   "source": [
    "X_train, X_test, y_train, y_test = train_test_split(features, target, \n",
    "                                                    test_size=0.2, stratify = target,\n",
    "                                                    random_state = 13)"
   ]
  },
  {
   "cell_type": "code",
   "execution_count": 13,
   "metadata": {},
   "outputs": [
    {
     "data": {
      "text/plain": [
       "0    597872\n",
       "1     74292\n",
       "Name: status, dtype: int64"
      ]
     },
     "execution_count": 13,
     "metadata": {},
     "output_type": "execute_result"
    }
   ],
   "source": [
    "y_train.value_counts()"
   ]
  },
  {
   "cell_type": "code",
   "execution_count": 14,
   "metadata": {},
   "outputs": [
    {
     "data": {
      "text/plain": [
       "(672164, 17)"
      ]
     },
     "execution_count": 14,
     "metadata": {},
     "output_type": "execute_result"
    }
   ],
   "source": [
    "X_train.shape"
   ]
  },
  {
   "cell_type": "markdown",
   "metadata": {},
   "source": [
    "random undersampling"
   ]
  },
  {
   "cell_type": "code",
   "execution_count": 15,
   "metadata": {},
   "outputs": [],
   "source": [
    "from imblearn.under_sampling import RandomUnderSampler"
   ]
  },
  {
   "cell_type": "code",
   "execution_count": 16,
   "metadata": {},
   "outputs": [
    {
     "name": "stdout",
     "output_type": "stream",
     "text": [
      "RandomUnderSampler: (148584, 17)\n"
     ]
    }
   ],
   "source": [
    "rus = RandomUnderSampler(random_state = 13)\n",
    "X_train, y_train = rus.fit_sample(X_train, y_train)\n",
    "print(f'RandomUnderSampler: {X_train.shape}')"
   ]
  },
  {
   "cell_type": "code",
   "execution_count": 17,
   "metadata": {},
   "outputs": [
    {
     "data": {
      "text/plain": [
       "1    74292\n",
       "0    74292\n",
       "Name: status, dtype: int64"
      ]
     },
     "execution_count": 17,
     "metadata": {},
     "output_type": "execute_result"
    }
   ],
   "source": [
    "y_train.value_counts()"
   ]
  },
  {
   "cell_type": "markdown",
   "metadata": {},
   "source": [
    "### linear models"
   ]
  },
  {
   "cell_type": "markdown",
   "metadata": {},
   "source": [
    "checking VIF"
   ]
  },
  {
   "cell_type": "code",
   "execution_count": 18,
   "metadata": {},
   "outputs": [
    {
     "name": "stdout",
     "output_type": "stream",
     "text": [
      "                    feature        VIF\n",
      "0                    amount   2.955938\n",
      "1                risk_score  17.174929\n",
      "2      debt_to_income_ratio   1.008414\n",
      "3                      year  40.358270\n",
      "4   length_of_emp_10+ years   3.842012\n",
      "5     length_of_emp_2 years   2.222821\n",
      "6     length_of_emp_3 years   2.021623\n",
      "7     length_of_emp_4 years   1.920220\n",
      "8     length_of_emp_5 years   1.933349\n",
      "9     length_of_emp_6 years   1.714004\n",
      "10    length_of_emp_7 years   1.568887\n",
      "11    length_of_emp_8 years   1.464795\n",
      "12    length_of_emp_9 years   1.377927\n",
      "13   length_of_emp_< 1 year   8.779068\n",
      "14         region_Northeast   2.437400\n",
      "15             region_South   3.306269\n",
      "16              region_West   2.704959\n"
     ]
    }
   ],
   "source": [
    "X_vif = pd.DataFrame(X_train, dtype=float)\n",
    "\n",
    "from statsmodels.stats.outliers_influence import variance_inflation_factor \n",
    "vif_data = pd.DataFrame() \n",
    "vif_data[\"feature\"] = X_vif.columns\n",
    "vif_data[\"VIF\"] = [variance_inflation_factor(X_vif.values, i) \n",
    "                          for i in range(len(X_vif.columns))] \n",
    "print(vif_data)"
   ]
  },
  {
   "cell_type": "markdown",
   "metadata": {},
   "source": [
    "simple linear regression"
   ]
  },
  {
   "cell_type": "code",
   "execution_count": 19,
   "metadata": {},
   "outputs": [],
   "source": [
    "from sklearn.linear_model import LogisticRegression, LogisticRegressionCV, SGDClassifier\n",
    "from sklearn.model_selection import GridSearchCV\n",
    "from sklearn.metrics import confusion_matrix, roc_auc_score"
   ]
  },
  {
   "cell_type": "code",
   "execution_count": 20,
   "metadata": {},
   "outputs": [
    {
     "data": {
      "text/plain": [
       "LogisticRegression(random_state=13, solver='liblinear')"
      ]
     },
     "execution_count": 20,
     "metadata": {},
     "output_type": "execute_result"
    }
   ],
   "source": [
    "# logistic regression with no regularization or tuning\n",
    "logit = LogisticRegression(solver='liblinear', random_state = 13)\n",
    "logit.fit(X_train, y_train)"
   ]
  },
  {
   "cell_type": "code",
   "execution_count": 21,
   "metadata": {},
   "outputs": [
    {
     "name": "stdout",
     "output_type": "stream",
     "text": [
      "accuracy:\n",
      "train: 0.8505828352985516\n",
      "test: 0.8180087002576752\n",
      "--------------------------------------------------------------------------------\n",
      "confusion matrix:\n",
      "train:\n",
      "[[60030 14262]\n",
      " [ 7939 66353]]\n",
      "test:\n",
      "[[120896  28572]\n",
      " [  2010  16563]]\n",
      "--------------------------------------------------------------------------------\n",
      "AUC-ROC:\n",
      "train: 0.8505828352985516\n",
      "test: 0.8503102071847372\n"
     ]
    }
   ],
   "source": [
    "print('accuracy:')\n",
    "print(f'train: {logit.score(X_train, y_train)}')\n",
    "print(f'test: {logit.score(X_test, y_test)}')\n",
    "print('--'*40)\n",
    "y_train_pred = logit.predict(X_train)\n",
    "y_test_pred = logit.predict(X_test)\n",
    "print('confusion matrix:')\n",
    "print('train:')\n",
    "print(confusion_matrix(y_train, y_train_pred))\n",
    "print('test:')\n",
    "print(confusion_matrix(y_test, y_test_pred))\n",
    "print('--'*40)\n",
    "print('AUC-ROC:')\n",
    "print(f'train: {roc_auc_score(y_train, y_train_pred)}')\n",
    "print(f'test: {roc_auc_score(y_test, y_test_pred)}')"
   ]
  },
  {
   "cell_type": "markdown",
   "metadata": {},
   "source": [
    "linear regression with regularization and CV"
   ]
  },
  {
   "cell_type": "code",
   "execution_count": 22,
   "metadata": {},
   "outputs": [
    {
     "name": "stdout",
     "output_type": "stream",
     "text": [
      "Fitting 3 folds for each of 60 candidates, totalling 180 fits\n"
     ]
    },
    {
     "name": "stderr",
     "output_type": "stream",
     "text": [
      "[Parallel(n_jobs=-1)]: Using backend LokyBackend with 8 concurrent workers.\n",
      "[Parallel(n_jobs=-1)]: Done  34 tasks      | elapsed:  1.3min\n",
      "[Parallel(n_jobs=-1)]: Done 180 out of 180 | elapsed:  4.1min finished\n"
     ]
    },
    {
     "name": "stdout",
     "output_type": "stream",
     "text": [
      "Wall time: 4min 6s\n",
      "{'C': 0.44882758620689656, 'class_weight': None, 'penalty': 'l2', 'random_state': 13, 'solver': 'liblinear'}\n",
      "LogisticRegression(C=0.44882758620689656, random_state=13, solver='liblinear')\n"
     ]
    }
   ],
   "source": [
    "logit = LogisticRegression(random_state = 13)\n",
    "logit.fit(X_train, y_train)\n",
    "\n",
    "logit_grid_params = [{\n",
    "    'C': np.linspace(1e-3,1,30),\n",
    "    'penalty':['l1','l2'],\n",
    "    'solver': ['liblinear'],\n",
    "    'class_weight':[None],\n",
    "    'random_state':[13]\n",
    "}]\n",
    "\n",
    "logit_grid_search = GridSearchCV(logit, logit_grid_params, scoring='roc_auc', cv=3, verbose = 1, n_jobs=-1)\n",
    "%time logit_grid_search.fit(X_train, y_train)\n",
    "\n",
    "print(logit_grid_search.best_params_)\n",
    "print(logit_grid_search.best_estimator_)"
   ]
  },
  {
   "cell_type": "code",
   "execution_count": 23,
   "metadata": {},
   "outputs": [
    {
     "name": "stdout",
     "output_type": "stream",
     "text": [
      "accuracy:\n",
      "0.8499232757228234\n",
      "0.8156937890157759\n",
      "------------------------------------------------------------\n",
      "confusion matrix:\n",
      "[[59822 14470]\n",
      " [ 7829 66463]]\n",
      "[[120502  28966]\n",
      " [  2005  16568]]\n",
      "------------------------------------------------------------\n",
      "AUC-ROC:\n",
      "0.8499232757228234\n",
      "0.8491268033118788\n"
     ]
    }
   ],
   "source": [
    "print('accuracy:')\n",
    "print(logit_grid_search.best_estimator_.score(X_train, y_train))\n",
    "print(logit_grid_search.best_estimator_.score(X_test, y_test))\n",
    "print('--'*30)\n",
    "y_train_pred = logit_grid_search.best_estimator_.predict(X_train)\n",
    "y_test_pred = logit_grid_search.best_estimator_.predict(X_test)\n",
    "print('confusion matrix:')\n",
    "print(confusion_matrix(y_train, y_train_pred))\n",
    "print(confusion_matrix(y_test, y_test_pred))\n",
    "print('--'*30)\n",
    "print('AUC-ROC:')\n",
    "print(roc_auc_score(y_train, y_train_pred))\n",
    "print(roc_auc_score(y_test, y_test_pred))"
   ]
  },
  {
   "cell_type": "markdown",
   "metadata": {},
   "source": [
    "linear with lasso"
   ]
  },
  {
   "cell_type": "code",
   "execution_count": 37,
   "metadata": {},
   "outputs": [
    {
     "name": "stdout",
     "output_type": "stream",
     "text": [
      "Fitting 3 folds for each of 30 candidates, totalling 90 fits\n"
     ]
    },
    {
     "name": "stderr",
     "output_type": "stream",
     "text": [
      "[Parallel(n_jobs=-1)]: Using backend LokyBackend with 8 concurrent workers.\n",
      "[Parallel(n_jobs=-1)]: Done  34 tasks      | elapsed:  3.7min\n",
      "[Parallel(n_jobs=-1)]: Done  90 out of  90 | elapsed:  8.4min finished\n"
     ]
    },
    {
     "name": "stdout",
     "output_type": "stream",
     "text": [
      "Wall time: 8min 38s\n",
      "{'C': 0.06244827586206897, 'class_weight': None, 'penalty': 'l1', 'random_state': 13, 'solver': 'liblinear'}\n",
      "LogisticRegression(C=0.06244827586206897, penalty='l1', random_state=13,\n",
      "                   solver='liblinear')\n"
     ]
    },
    {
     "name": "stderr",
     "output_type": "stream",
     "text": [
      "C:\\Users\\aznan\\anaconda3\\lib\\site-packages\\sklearn\\svm\\_base.py:977: ConvergenceWarning: Liblinear failed to converge, increase the number of iterations.\n",
      "  \"the number of iterations.\", ConvergenceWarning)\n"
     ]
    }
   ],
   "source": [
    "logit = LogisticRegression(random_state = 13)\n",
    "logit.fit(X_train, y_train)\n",
    "\n",
    "logit_grid_params = [{\n",
    "    'C': np.linspace(1e-3,0.1,30), #np.linspace(1e-3,1,30),\n",
    "    'penalty':['l1'],\n",
    "    'solver': ['liblinear'],\n",
    "    'class_weight':[None],\n",
    "    'random_state':[13]\n",
    "}]\n",
    "\n",
    "logit_grid_search = GridSearchCV(logit, logit_grid_params, scoring='roc_auc', cv=3, verbose = 1, n_jobs=-1)\n",
    "%time logit_grid_search.fit(X_train, y_train)\n",
    "\n",
    "print(logit_grid_search.best_params_)\n",
    "print(logit_grid_search.best_estimator_)"
   ]
  },
  {
   "cell_type": "code",
   "execution_count": 38,
   "metadata": {
    "scrolled": true
   },
   "outputs": [
    {
     "name": "stdout",
     "output_type": "stream",
     "text": [
      "accuracy:\n",
      "0.8508587734883971\n",
      "0.8133431722020221\n",
      "------------------------------------------------------------\n",
      "confusion matrix:\n",
      "[[59594 14698]\n",
      " [ 7462 66830]]\n",
      "[[120003  29465]\n",
      " [  1901  16672]]\n",
      "------------------------------------------------------------\n",
      "AUC-ROC:\n",
      "0.8508587734883972\n",
      "0.8502573127893437\n"
     ]
    }
   ],
   "source": [
    "print('accuracy:')\n",
    "print(logit_grid_search.best_estimator_.score(X_train, y_train))\n",
    "print(logit_grid_search.best_estimator_.score(X_test, y_test))\n",
    "print('--'*30)\n",
    "y_train_pred = logit_grid_search.best_estimator_.predict(X_train)\n",
    "y_test_pred = logit_grid_search.best_estimator_.predict(X_test)\n",
    "print('confusion matrix:')\n",
    "print(confusion_matrix(y_train, y_train_pred))\n",
    "print(confusion_matrix(y_test, y_test_pred))\n",
    "print('--'*30)\n",
    "print('AUC-ROC:')\n",
    "print(roc_auc_score(y_train, y_train_pred))\n",
    "print(roc_auc_score(y_test, y_test_pred))"
   ]
  },
  {
   "cell_type": "code",
   "execution_count": 42,
   "metadata": {},
   "outputs": [
    {
     "data": {
      "text/plain": [
       "array([[-2.01411270e-05,  5.50206712e-03, -2.62339822e+00,\n",
       "        -7.00813998e-04,  6.56410720e-01,  7.28953978e-02,\n",
       "         1.22703086e-01,  3.01943457e-01,  4.68129374e-01,\n",
       "         4.44959834e-01,  5.45105426e-01,  3.71213616e-01,\n",
       "         5.62794936e-01, -2.87227799e+00,  1.06283778e-01,\n",
       "        -5.79292501e-03,  2.20708258e-01]])"
      ]
     },
     "execution_count": 42,
     "metadata": {},
     "output_type": "execute_result"
    }
   ],
   "source": [
    "logit_grid_search.best_estimator_.coef_"
   ]
  },
  {
   "cell_type": "code",
   "execution_count": 43,
   "metadata": {},
   "outputs": [
    {
     "name": "stdout",
     "output_type": "stream",
     "text": [
      "17\n"
     ]
    },
    {
     "data": {
      "text/html": [
       "<div>\n",
       "<style scoped>\n",
       "    .dataframe tbody tr th:only-of-type {\n",
       "        vertical-align: middle;\n",
       "    }\n",
       "\n",
       "    .dataframe tbody tr th {\n",
       "        vertical-align: top;\n",
       "    }\n",
       "\n",
       "    .dataframe thead th {\n",
       "        text-align: right;\n",
       "    }\n",
       "</style>\n",
       "<table border=\"1\" class=\"dataframe\">\n",
       "  <thead>\n",
       "    <tr style=\"text-align: right;\">\n",
       "      <th></th>\n",
       "      <th>features</th>\n",
       "      <th>coef</th>\n",
       "    </tr>\n",
       "  </thead>\n",
       "  <tbody>\n",
       "    <tr>\n",
       "      <th>4</th>\n",
       "      <td>length_of_emp_10+ years</td>\n",
       "      <td>0.656411</td>\n",
       "    </tr>\n",
       "    <tr>\n",
       "      <th>12</th>\n",
       "      <td>length_of_emp_9 years</td>\n",
       "      <td>0.562795</td>\n",
       "    </tr>\n",
       "    <tr>\n",
       "      <th>10</th>\n",
       "      <td>length_of_emp_7 years</td>\n",
       "      <td>0.545105</td>\n",
       "    </tr>\n",
       "    <tr>\n",
       "      <th>8</th>\n",
       "      <td>length_of_emp_5 years</td>\n",
       "      <td>0.468129</td>\n",
       "    </tr>\n",
       "    <tr>\n",
       "      <th>9</th>\n",
       "      <td>length_of_emp_6 years</td>\n",
       "      <td>0.444960</td>\n",
       "    </tr>\n",
       "    <tr>\n",
       "      <th>11</th>\n",
       "      <td>length_of_emp_8 years</td>\n",
       "      <td>0.371214</td>\n",
       "    </tr>\n",
       "    <tr>\n",
       "      <th>7</th>\n",
       "      <td>length_of_emp_4 years</td>\n",
       "      <td>0.301943</td>\n",
       "    </tr>\n",
       "    <tr>\n",
       "      <th>16</th>\n",
       "      <td>region_West</td>\n",
       "      <td>0.220708</td>\n",
       "    </tr>\n",
       "    <tr>\n",
       "      <th>6</th>\n",
       "      <td>length_of_emp_3 years</td>\n",
       "      <td>0.122703</td>\n",
       "    </tr>\n",
       "    <tr>\n",
       "      <th>14</th>\n",
       "      <td>region_Northeast</td>\n",
       "      <td>0.106284</td>\n",
       "    </tr>\n",
       "    <tr>\n",
       "      <th>5</th>\n",
       "      <td>length_of_emp_2 years</td>\n",
       "      <td>0.072895</td>\n",
       "    </tr>\n",
       "    <tr>\n",
       "      <th>1</th>\n",
       "      <td>risk_score</td>\n",
       "      <td>0.005502</td>\n",
       "    </tr>\n",
       "    <tr>\n",
       "      <th>0</th>\n",
       "      <td>amount</td>\n",
       "      <td>-0.000020</td>\n",
       "    </tr>\n",
       "    <tr>\n",
       "      <th>3</th>\n",
       "      <td>year</td>\n",
       "      <td>-0.000701</td>\n",
       "    </tr>\n",
       "    <tr>\n",
       "      <th>15</th>\n",
       "      <td>region_South</td>\n",
       "      <td>-0.005793</td>\n",
       "    </tr>\n",
       "    <tr>\n",
       "      <th>2</th>\n",
       "      <td>debt_to_income_ratio</td>\n",
       "      <td>-2.623398</td>\n",
       "    </tr>\n",
       "    <tr>\n",
       "      <th>13</th>\n",
       "      <td>length_of_emp_&lt; 1 year</td>\n",
       "      <td>-2.872278</td>\n",
       "    </tr>\n",
       "  </tbody>\n",
       "</table>\n",
       "</div>"
      ],
      "text/plain": [
       "                   features      coef\n",
       "4   length_of_emp_10+ years  0.656411\n",
       "12    length_of_emp_9 years  0.562795\n",
       "10    length_of_emp_7 years  0.545105\n",
       "8     length_of_emp_5 years  0.468129\n",
       "9     length_of_emp_6 years  0.444960\n",
       "11    length_of_emp_8 years  0.371214\n",
       "7     length_of_emp_4 years  0.301943\n",
       "16              region_West  0.220708\n",
       "6     length_of_emp_3 years  0.122703\n",
       "14         region_Northeast  0.106284\n",
       "5     length_of_emp_2 years  0.072895\n",
       "1                risk_score  0.005502\n",
       "0                    amount -0.000020\n",
       "3                      year -0.000701\n",
       "15             region_South -0.005793\n",
       "2      debt_to_income_ratio -2.623398\n",
       "13   length_of_emp_< 1 year -2.872278"
      ]
     },
     "execution_count": 43,
     "metadata": {},
     "output_type": "execute_result"
    }
   ],
   "source": [
    "# non-zero beta coefficients\n",
    "lasso_cv_coefs = pd.DataFrame(\n",
    "    {'features': X_train.columns,\n",
    "     'coef': logit_grid_search.best_estimator_.coef_[0]}).sort_values('coef', ascending = False)\n",
    "\n",
    "# non-zero coefficients\n",
    "print(len(lasso_cv_coefs[lasso_cv_coefs['coef']!=0]))\n",
    "lasso_cv_coefs[lasso_cv_coefs['coef']!=0]"
   ]
  },
  {
   "cell_type": "markdown",
   "metadata": {},
   "source": [
    "stochastic gradient descent"
   ]
  },
  {
   "cell_type": "code",
   "execution_count": 45,
   "metadata": {},
   "outputs": [],
   "source": [
    "sgd = SGDClassifier(random_state = 13)"
   ]
  },
  {
   "cell_type": "code",
   "execution_count": 61,
   "metadata": {},
   "outputs": [
    {
     "name": "stdout",
     "output_type": "stream",
     "text": [
      "Wall time: 51.1 s\n",
      "{'alpha': 151.9655172413793, 'class_weight': None, 'learning_rate': 'optimal', 'random_state': 13}\n"
     ]
    }
   ],
   "source": [
    "# SGD CV\n",
    "sgd_grid_params = [{\n",
    "    'class_weight':[None],\n",
    "    'learning_rate':['optimal'],\n",
    "    'alpha': np.linspace(1,200,30),\n",
    "    'random_state': [13]}]\n",
    "sgd_grid_search = GridSearchCV(sgd, sgd_grid_params, scoring='roc_auc', cv=3, n_jobs=-1)\n",
    "%time sgd_grid_search.fit(X_train, y_train)\n",
    "print(sgd_grid_search.best_params_)"
   ]
  },
  {
   "cell_type": "code",
   "execution_count": 62,
   "metadata": {},
   "outputs": [
    {
     "name": "stdout",
     "output_type": "stream",
     "text": [
      "accuracy:\n",
      "0.6267767727346147\n",
      "0.8030480656506448\n",
      "------------------------------------------------------------\n",
      "confusion matrix:\n",
      "[[63292 11000]\n",
      " [44455 29837]]\n",
      "[[127520  21948]\n",
      " [ 11148   7425]]\n",
      "------------------------------------------------------------\n",
      "AUC-ROC:\n",
      "0.6267767727346147\n",
      "0.6264665349670662\n"
     ]
    }
   ],
   "source": [
    "print('accuracy:')\n",
    "print(sgd_grid_search.best_estimator_.score(X_train, y_train))\n",
    "print(sgd_grid_search.best_estimator_.score(X_test, y_test))\n",
    "print('--'*30)\n",
    "y_train_pred = sgd_grid_search.best_estimator_.predict(X_train)\n",
    "y_test_pred = sgd_grid_search.best_estimator_.predict(X_test)\n",
    "print('confusion matrix:')\n",
    "print(confusion_matrix(y_train, y_train_pred))\n",
    "print(confusion_matrix(y_test, y_test_pred))\n",
    "print('--'*30)\n",
    "print('AUC-ROC:')\n",
    "print(roc_auc_score(y_train, y_train_pred))\n",
    "print(roc_auc_score(y_test, y_test_pred))"
   ]
  },
  {
   "cell_type": "code",
   "execution_count": null,
   "metadata": {},
   "outputs": [],
   "source": []
  },
  {
   "cell_type": "code",
   "execution_count": null,
   "metadata": {},
   "outputs": [],
   "source": []
  }
 ],
 "metadata": {
  "kernelspec": {
   "display_name": "Python 3",
   "language": "python",
   "name": "python3"
  },
  "language_info": {
   "codemirror_mode": {
    "name": "ipython",
    "version": 3
   },
   "file_extension": ".py",
   "mimetype": "text/x-python",
   "name": "python",
   "nbconvert_exporter": "python",
   "pygments_lexer": "ipython3",
   "version": "3.7.6"
  }
 },
 "nbformat": 4,
 "nbformat_minor": 4
}
