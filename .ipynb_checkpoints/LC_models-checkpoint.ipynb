{
 "cells": [
  {
   "cell_type": "code",
   "execution_count": 91,
   "metadata": {},
   "outputs": [],
   "source": [
    "import pandas as pd\n",
    "import numpy as np"
   ]
  },
  {
   "cell_type": "code",
   "execution_count": 92,
   "metadata": {},
   "outputs": [],
   "source": [
    "lc_df = pd.read_csv('../data/lc_cleaned.csv').drop(['title','state','policy_code','division'], axis = 1)\n",
    "lc_eo2012 = lc_df[lc_df['year']<=2012]\n",
    "lc_eo2012 = lc_eo2012.sort_values(['year','length_of_emp'], ascending = [True, False]).\\\n",
    "            reset_index().drop(['index'], axis = 1)"
   ]
  },
  {
   "cell_type": "code",
   "execution_count": 93,
   "metadata": {
    "scrolled": true
   },
   "outputs": [
    {
     "data": {
      "text/plain": [
       "amount                      0\n",
       "risk_score              23927\n",
       "debt_to_income_ratio        0\n",
       "length_of_emp           11167\n",
       "year                        0\n",
       "status                      0\n",
       "region                      0\n",
       "dtype: int64"
      ]
     },
     "execution_count": 93,
     "metadata": {},
     "output_type": "execute_result"
    }
   ],
   "source": [
    "lc_eo2012.isnull().sum()"
   ]
  },
  {
   "cell_type": "code",
   "execution_count": 94,
   "metadata": {},
   "outputs": [
    {
     "data": {
      "text/html": [
       "<div>\n",
       "<style scoped>\n",
       "    .dataframe tbody tr th:only-of-type {\n",
       "        vertical-align: middle;\n",
       "    }\n",
       "\n",
       "    .dataframe tbody tr th {\n",
       "        vertical-align: top;\n",
       "    }\n",
       "\n",
       "    .dataframe thead th {\n",
       "        text-align: right;\n",
       "    }\n",
       "</style>\n",
       "<table border=\"1\" class=\"dataframe\">\n",
       "  <thead>\n",
       "    <tr style=\"text-align: right;\">\n",
       "      <th></th>\n",
       "      <th>amount</th>\n",
       "      <th>risk_score</th>\n",
       "      <th>debt_to_income_ratio</th>\n",
       "      <th>year</th>\n",
       "      <th>status</th>\n",
       "    </tr>\n",
       "  </thead>\n",
       "  <tbody>\n",
       "    <tr>\n",
       "      <th>count</th>\n",
       "      <td>11167.000000</td>\n",
       "      <td>11046.000000</td>\n",
       "      <td>11167.000000</td>\n",
       "      <td>11167.000000</td>\n",
       "      <td>11167.000000</td>\n",
       "    </tr>\n",
       "    <tr>\n",
       "      <th>mean</th>\n",
       "      <td>11919.244202</td>\n",
       "      <td>673.668749</td>\n",
       "      <td>10.104746</td>\n",
       "      <td>2011.224859</td>\n",
       "      <td>0.271962</td>\n",
       "    </tr>\n",
       "    <tr>\n",
       "      <th>std</th>\n",
       "      <td>9297.179228</td>\n",
       "      <td>137.025290</td>\n",
       "      <td>140.321002</td>\n",
       "      <td>0.845084</td>\n",
       "      <td>0.444990</td>\n",
       "    </tr>\n",
       "    <tr>\n",
       "      <th>min</th>\n",
       "      <td>1000.000000</td>\n",
       "      <td>0.000000</td>\n",
       "      <td>-0.010000</td>\n",
       "      <td>2008.000000</td>\n",
       "      <td>0.000000</td>\n",
       "    </tr>\n",
       "    <tr>\n",
       "      <th>25%</th>\n",
       "      <td>5000.000000</td>\n",
       "      <td>664.000000</td>\n",
       "      <td>0.054350</td>\n",
       "      <td>2010.000000</td>\n",
       "      <td>0.000000</td>\n",
       "    </tr>\n",
       "    <tr>\n",
       "      <th>50%</th>\n",
       "      <td>10000.000000</td>\n",
       "      <td>695.000000</td>\n",
       "      <td>0.130500</td>\n",
       "      <td>2011.000000</td>\n",
       "      <td>0.000000</td>\n",
       "    </tr>\n",
       "    <tr>\n",
       "      <th>75%</th>\n",
       "      <td>16250.000000</td>\n",
       "      <td>736.000000</td>\n",
       "      <td>0.210700</td>\n",
       "      <td>2012.000000</td>\n",
       "      <td>1.000000</td>\n",
       "    </tr>\n",
       "    <tr>\n",
       "      <th>max</th>\n",
       "      <td>35000.000000</td>\n",
       "      <td>850.000000</td>\n",
       "      <td>1999.980000</td>\n",
       "      <td>2012.000000</td>\n",
       "      <td>1.000000</td>\n",
       "    </tr>\n",
       "  </tbody>\n",
       "</table>\n",
       "</div>"
      ],
      "text/plain": [
       "             amount    risk_score  debt_to_income_ratio          year  \\\n",
       "count  11167.000000  11046.000000          11167.000000  11167.000000   \n",
       "mean   11919.244202    673.668749             10.104746   2011.224859   \n",
       "std     9297.179228    137.025290            140.321002      0.845084   \n",
       "min     1000.000000      0.000000             -0.010000   2008.000000   \n",
       "25%     5000.000000    664.000000              0.054350   2010.000000   \n",
       "50%    10000.000000    695.000000              0.130500   2011.000000   \n",
       "75%    16250.000000    736.000000              0.210700   2012.000000   \n",
       "max    35000.000000    850.000000           1999.980000   2012.000000   \n",
       "\n",
       "             status  \n",
       "count  11167.000000  \n",
       "mean       0.271962  \n",
       "std        0.444990  \n",
       "min        0.000000  \n",
       "25%        0.000000  \n",
       "50%        0.000000  \n",
       "75%        1.000000  \n",
       "max        1.000000  "
      ]
     },
     "execution_count": 94,
     "metadata": {},
     "output_type": "execute_result"
    }
   ],
   "source": [
    "lc_eo2012[lc_eo2012['length_of_emp'].isnull()].describe()"
   ]
  },
  {
   "cell_type": "code",
   "execution_count": 95,
   "metadata": {},
   "outputs": [],
   "source": [
    "lc_eo2012.dropna(subset = ['length_of_emp'], inplace = True)"
   ]
  },
  {
   "cell_type": "code",
   "execution_count": 96,
   "metadata": {},
   "outputs": [
    {
     "data": {
      "text/html": [
       "<div>\n",
       "<style scoped>\n",
       "    .dataframe tbody tr th:only-of-type {\n",
       "        vertical-align: middle;\n",
       "    }\n",
       "\n",
       "    .dataframe tbody tr th {\n",
       "        vertical-align: top;\n",
       "    }\n",
       "\n",
       "    .dataframe thead th {\n",
       "        text-align: right;\n",
       "    }\n",
       "</style>\n",
       "<table border=\"1\" class=\"dataframe\">\n",
       "  <thead>\n",
       "    <tr style=\"text-align: right;\">\n",
       "      <th></th>\n",
       "      <th>amount</th>\n",
       "      <th>risk_score</th>\n",
       "      <th>debt_to_income_ratio</th>\n",
       "      <th>year</th>\n",
       "      <th>status</th>\n",
       "    </tr>\n",
       "  </thead>\n",
       "  <tbody>\n",
       "    <tr>\n",
       "      <th>count</th>\n",
       "      <td>23806.000000</td>\n",
       "      <td>0.0</td>\n",
       "      <td>23806.000000</td>\n",
       "      <td>23806.000000</td>\n",
       "      <td>23806.0</td>\n",
       "    </tr>\n",
       "    <tr>\n",
       "      <th>mean</th>\n",
       "      <td>11726.823266</td>\n",
       "      <td>NaN</td>\n",
       "      <td>107.678587</td>\n",
       "      <td>2009.996051</td>\n",
       "      <td>0.0</td>\n",
       "    </tr>\n",
       "    <tr>\n",
       "      <th>std</th>\n",
       "      <td>9378.244384</td>\n",
       "      <td>NaN</td>\n",
       "      <td>312.447729</td>\n",
       "      <td>1.251819</td>\n",
       "      <td>0.0</td>\n",
       "    </tr>\n",
       "    <tr>\n",
       "      <th>min</th>\n",
       "      <td>500.000000</td>\n",
       "      <td>NaN</td>\n",
       "      <td>-0.010000</td>\n",
       "      <td>2007.000000</td>\n",
       "      <td>0.0</td>\n",
       "    </tr>\n",
       "    <tr>\n",
       "      <th>25%</th>\n",
       "      <td>4000.000000</td>\n",
       "      <td>NaN</td>\n",
       "      <td>-0.010000</td>\n",
       "      <td>2009.000000</td>\n",
       "      <td>0.0</td>\n",
       "    </tr>\n",
       "    <tr>\n",
       "      <th>50%</th>\n",
       "      <td>10000.000000</td>\n",
       "      <td>NaN</td>\n",
       "      <td>-0.010000</td>\n",
       "      <td>2010.000000</td>\n",
       "      <td>0.0</td>\n",
       "    </tr>\n",
       "    <tr>\n",
       "      <th>75%</th>\n",
       "      <td>18700.000000</td>\n",
       "      <td>NaN</td>\n",
       "      <td>0.098500</td>\n",
       "      <td>2011.000000</td>\n",
       "      <td>0.0</td>\n",
       "    </tr>\n",
       "    <tr>\n",
       "      <th>max</th>\n",
       "      <td>90000.000000</td>\n",
       "      <td>NaN</td>\n",
       "      <td>1999.980000</td>\n",
       "      <td>2012.000000</td>\n",
       "      <td>0.0</td>\n",
       "    </tr>\n",
       "  </tbody>\n",
       "</table>\n",
       "</div>"
      ],
      "text/plain": [
       "             amount  risk_score  debt_to_income_ratio          year   status\n",
       "count  23806.000000         0.0          23806.000000  23806.000000  23806.0\n",
       "mean   11726.823266         NaN            107.678587   2009.996051      0.0\n",
       "std     9378.244384         NaN            312.447729      1.251819      0.0\n",
       "min      500.000000         NaN             -0.010000   2007.000000      0.0\n",
       "25%     4000.000000         NaN             -0.010000   2009.000000      0.0\n",
       "50%    10000.000000         NaN             -0.010000   2010.000000      0.0\n",
       "75%    18700.000000         NaN              0.098500   2011.000000      0.0\n",
       "max    90000.000000         NaN           1999.980000   2012.000000      0.0"
      ]
     },
     "execution_count": 96,
     "metadata": {},
     "output_type": "execute_result"
    }
   ],
   "source": [
    "lc_eo2012[lc_eo2012['risk_score'].isnull()].describe()"
   ]
  },
  {
   "cell_type": "code",
   "execution_count": 97,
   "metadata": {},
   "outputs": [],
   "source": [
    "lc_eo2012.loc[lc_eo2012['risk_score'].isnull(), 'risk_score'] = 0"
   ]
  },
  {
   "cell_type": "code",
   "execution_count": 98,
   "metadata": {},
   "outputs": [
    {
     "data": {
      "text/plain": [
       "amount                  0\n",
       "risk_score              0\n",
       "debt_to_income_ratio    0\n",
       "length_of_emp           0\n",
       "year                    0\n",
       "status                  0\n",
       "region                  0\n",
       "dtype: int64"
      ]
     },
     "execution_count": 98,
     "metadata": {},
     "output_type": "execute_result"
    }
   ],
   "source": [
    "lc_eo2012.isnull().sum()"
   ]
  },
  {
   "cell_type": "markdown",
   "metadata": {},
   "source": [
    "dummification"
   ]
  },
  {
   "cell_type": "code",
   "execution_count": 99,
   "metadata": {},
   "outputs": [
    {
     "data": {
      "text/plain": [
       "Index(['amount', 'risk_score', 'debt_to_income_ratio', 'year', 'status',\n",
       "       'length_of_emp_10+ years', 'length_of_emp_2 years',\n",
       "       'length_of_emp_3 years', 'length_of_emp_4 years',\n",
       "       'length_of_emp_5 years', 'length_of_emp_6 years',\n",
       "       'length_of_emp_7 years', 'length_of_emp_8 years',\n",
       "       'length_of_emp_9 years', 'length_of_emp_< 1 year', 'region_Northeast',\n",
       "       'region_South', 'region_West'],\n",
       "      dtype='object')"
      ]
     },
     "execution_count": 99,
     "metadata": {},
     "output_type": "execute_result"
    }
   ],
   "source": [
    "lc_dummies = pd.get_dummies(lc_eo2012, drop_first = True)\n",
    "lc_dummies.columns"
   ]
  },
  {
   "cell_type": "markdown",
   "metadata": {},
   "source": [
    "train test split"
   ]
  },
  {
   "cell_type": "code",
   "execution_count": 100,
   "metadata": {},
   "outputs": [],
   "source": [
    "from sklearn.model_selection import cross_val_score, cross_val_predict, GridSearchCV, train_test_split"
   ]
  },
  {
   "cell_type": "code",
   "execution_count": 101,
   "metadata": {},
   "outputs": [],
   "source": [
    "features = lc_dummies.drop(['status'], axis = 1)\n",
    "target = lc_dummies['status']"
   ]
  },
  {
   "cell_type": "code",
   "execution_count": 102,
   "metadata": {},
   "outputs": [],
   "source": [
    "X_train, X_test, y_train, y_test = train_test_split(features, target, \n",
    "                                                    test_size=0.2, stratify = target,\n",
    "                                                    random_state = 13)"
   ]
  },
  {
   "cell_type": "code",
   "execution_count": 103,
   "metadata": {},
   "outputs": [
    {
     "data": {
      "text/plain": [
       "0    597872\n",
       "1     74292\n",
       "Name: status, dtype: int64"
      ]
     },
     "execution_count": 103,
     "metadata": {},
     "output_type": "execute_result"
    }
   ],
   "source": [
    "y_train.value_counts()"
   ]
  },
  {
   "cell_type": "code",
   "execution_count": 104,
   "metadata": {},
   "outputs": [
    {
     "data": {
      "text/plain": [
       "(672164, 17)"
      ]
     },
     "execution_count": 104,
     "metadata": {},
     "output_type": "execute_result"
    }
   ],
   "source": [
    "X_train.shape"
   ]
  },
  {
   "cell_type": "markdown",
   "metadata": {},
   "source": [
    "### linear models"
   ]
  },
  {
   "cell_type": "markdown",
   "metadata": {},
   "source": [
    "checking VIF"
   ]
  },
  {
   "cell_type": "code",
   "execution_count": 105,
   "metadata": {},
   "outputs": [
    {
     "name": "stdout",
     "output_type": "stream",
     "text": [
      "                    feature        VIF\n",
      "0                    amount   2.678943\n",
      "1                risk_score  10.224048\n",
      "2      debt_to_income_ratio   1.000480\n",
      "3                      year  40.019286\n",
      "4   length_of_emp_10+ years   2.945271\n",
      "5     length_of_emp_2 years   2.090122\n",
      "6     length_of_emp_3 years   1.875852\n",
      "7     length_of_emp_4 years   1.721389\n",
      "8     length_of_emp_5 years   1.695365\n",
      "9     length_of_emp_6 years   1.529877\n",
      "10    length_of_emp_7 years   1.400624\n",
      "11    length_of_emp_8 years   1.348266\n",
      "12    length_of_emp_9 years   1.277495\n",
      "13   length_of_emp_< 1 year  18.904510\n",
      "14         region_Northeast   2.321241\n",
      "15             region_South   3.291501\n",
      "16              region_West   2.482827\n"
     ]
    }
   ],
   "source": [
    "X_vif = pd.DataFrame(X_train, dtype=float)\n",
    "\n",
    "from statsmodels.stats.outliers_influence import variance_inflation_factor \n",
    "vif_data = pd.DataFrame() \n",
    "vif_data[\"feature\"] = X_vif.columns\n",
    "vif_data[\"VIF\"] = [variance_inflation_factor(X_vif.values, i) \n",
    "                          for i in range(len(X_vif.columns))] \n",
    "print(vif_data)"
   ]
  },
  {
   "cell_type": "markdown",
   "metadata": {},
   "source": [
    "simple linear regression"
   ]
  },
  {
   "cell_type": "code",
   "execution_count": 106,
   "metadata": {},
   "outputs": [],
   "source": [
    "from sklearn.linear_model import LogisticRegression, LogisticRegressionCV, SGDClassifier\n",
    "from sklearn.model_selection import GridSearchCV\n",
    "from sklearn.metrics import confusion_matrix, roc_auc_score"
   ]
  },
  {
   "cell_type": "code",
   "execution_count": 107,
   "metadata": {},
   "outputs": [
    {
     "data": {
      "text/plain": [
       "LogisticRegression(class_weight='balanced', random_state=13, solver='liblinear')"
      ]
     },
     "execution_count": 107,
     "metadata": {},
     "output_type": "execute_result"
    }
   ],
   "source": [
    "# logistic regression with no regularization or tuning\n",
    "logit = LogisticRegression(solver='liblinear', random_state = 13, class_weight = 'balanced')\n",
    "logit.fit(X_train, y_train)"
   ]
  },
  {
   "cell_type": "code",
   "execution_count": 108,
   "metadata": {},
   "outputs": [
    {
     "name": "stdout",
     "output_type": "stream",
     "text": [
      "accuracy:\n",
      "train: 0.8195425521152576\n",
      "test: 0.8194904814896364\n",
      "--------------------------------------------------------------------------------\n",
      "confusion matrix:\n",
      "train:\n",
      "[[484597 113275]\n",
      " [  8022  66270]]\n",
      "test:\n",
      "[[121177  28291]\n",
      " [  2042  16531]]\n",
      "--------------------------------------------------------------------------------\n",
      "AUC-ROC:\n",
      "train: 0.8512785220811595\n",
      "test: 0.8503887421516707\n"
     ]
    }
   ],
   "source": [
    "print('accuracy:')\n",
    "print(f'train: {logit.score(X_train, y_train)}')\n",
    "print(f'test: {logit.score(X_test, y_test)}')\n",
    "print('--'*40)\n",
    "y_train_pred = logit.predict(X_train)\n",
    "y_test_pred = logit.predict(X_test)\n",
    "print('confusion matrix:')\n",
    "print('train:')\n",
    "print(confusion_matrix(y_train, y_train_pred))\n",
    "print('test:')\n",
    "print(confusion_matrix(y_test, y_test_pred))\n",
    "print('--'*40)\n",
    "print('AUC-ROC:')\n",
    "print(f'train: {roc_auc_score(y_train, y_train_pred)}')\n",
    "print(f'test: {roc_auc_score(y_test, y_test_pred)}')"
   ]
  },
  {
   "cell_type": "markdown",
   "metadata": {},
   "source": [
    "linear regression with regularization and CV"
   ]
  },
  {
   "cell_type": "code",
   "execution_count": null,
   "metadata": {},
   "outputs": [
    {
     "name": "stdout",
     "output_type": "stream",
     "text": [
      "Fitting 5 folds for each of 40 candidates, totalling 200 fits\n"
     ]
    },
    {
     "name": "stderr",
     "output_type": "stream",
     "text": [
      "[Parallel(n_jobs=-1)]: Using backend LokyBackend with 8 concurrent workers.\n"
     ]
    }
   ],
   "source": [
    "logit = LogisticRegression(random_state = 13, max_iter = 1000)\n",
    "logit.fit(X_train, y_train)\n",
    "\n",
    "logit_grid_params = [{\n",
    "    'C': [5e-4,5e-3,5e-2,0.5,1,5,50,500,5e3,5e4],\n",
    "    'penalty':['l1','l2'],\n",
    "    'solver': ['liblinear'],\n",
    "    'class_weight':[None,'balanced'],\n",
    "    'random_state':[13]\n",
    "}]\n",
    "\n",
    "grid_search_logit = GridSearchCV(logit, logit_grid_params, scoring='roc_auc', cv=5,\n",
    "                                 verbose = 1, n_jobs=-1)\n",
    "%time grid_search_logit.fit(X_train, y_train)\n",
    "\n",
    "print(grid_search_logit.best_params_)\n",
    "print(grid_search_logit.best_estimator_)"
   ]
  },
  {
   "cell_type": "code",
   "execution_count": null,
   "metadata": {},
   "outputs": [],
   "source": []
  },
  {
   "cell_type": "code",
   "execution_count": null,
   "metadata": {},
   "outputs": [],
   "source": []
  },
  {
   "cell_type": "code",
   "execution_count": null,
   "metadata": {},
   "outputs": [],
   "source": []
  },
  {
   "cell_type": "code",
   "execution_count": null,
   "metadata": {},
   "outputs": [],
   "source": []
  },
  {
   "cell_type": "code",
   "execution_count": null,
   "metadata": {},
   "outputs": [],
   "source": []
  },
  {
   "cell_type": "code",
   "execution_count": null,
   "metadata": {},
   "outputs": [],
   "source": []
  }
 ],
 "metadata": {
  "kernelspec": {
   "display_name": "Python 3",
   "language": "python",
   "name": "python3"
  },
  "language_info": {
   "codemirror_mode": {
    "name": "ipython",
    "version": 3
   },
   "file_extension": ".py",
   "mimetype": "text/x-python",
   "name": "python",
   "nbconvert_exporter": "python",
   "pygments_lexer": "ipython3",
   "version": "3.7.6"
  }
 },
 "nbformat": 4,
 "nbformat_minor": 4
}
