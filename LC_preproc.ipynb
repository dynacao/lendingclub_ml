{
 "cells": [
  {
   "cell_type": "code",
   "execution_count": 1,
   "metadata": {},
   "outputs": [],
   "source": [
    "import pandas as pd\n",
    "import numpy as np"
   ]
  },
  {
   "cell_type": "code",
   "execution_count": 2,
   "metadata": {},
   "outputs": [
    {
     "name": "stderr",
     "output_type": "stream",
     "text": [
      "C:\\Users\\aznan\\anaconda3\\lib\\site-packages\\IPython\\core\\interactiveshell.py:3063: DtypeWarning: Columns (0,19,49,59,118,129,130,131,134,135,136,139,145,146,147) have mixed types.Specify dtype option on import or set low_memory=False.\n",
      "  interactivity=interactivity, compiler=compiler, result=result)\n"
     ]
    }
   ],
   "source": [
    "accepted = pd.read_csv('accepted_2007_to_2018Q4.csv')[['loan_amnt','issue_d','title','last_fico_range_high',\n",
    "                                                       'last_fico_range_low','annual_inc','installment',\n",
    "                                                       'zip_code','addr_state','emp_length','policy_code']]\n",
    "rejected = pd.read_csv('rejected_2007_to_2018Q4.csv')"
   ]
  },
  {
   "cell_type": "code",
   "execution_count": 3,
   "metadata": {},
   "outputs": [
    {
     "name": "stdout",
     "output_type": "stream",
     "text": [
      "<class 'pandas.core.frame.DataFrame'>\n",
      "RangeIndex: 2260701 entries, 0 to 2260700\n",
      "Data columns (total 11 columns):\n",
      " #   Column                Dtype  \n",
      "---  ------                -----  \n",
      " 0   loan_amnt             float64\n",
      " 1   issue_d               object \n",
      " 2   title                 object \n",
      " 3   last_fico_range_high  float64\n",
      " 4   last_fico_range_low   float64\n",
      " 5   annual_inc            float64\n",
      " 6   installment           float64\n",
      " 7   zip_code              object \n",
      " 8   addr_state            object \n",
      " 9   emp_length            object \n",
      " 10  policy_code           float64\n",
      "dtypes: float64(6), object(5)\n",
      "memory usage: 189.7+ MB\n"
     ]
    }
   ],
   "source": [
    "accepted.info()"
   ]
  },
  {
   "cell_type": "code",
   "execution_count": 4,
   "metadata": {},
   "outputs": [
    {
     "name": "stdout",
     "output_type": "stream",
     "text": [
      "<class 'pandas.core.frame.DataFrame'>\n",
      "RangeIndex: 1048575 entries, 0 to 1048574\n",
      "Data columns (total 9 columns):\n",
      " #   Column                Non-Null Count    Dtype  \n",
      "---  ------                --------------    -----  \n",
      " 0   Amount Requested      1048575 non-null  float64\n",
      " 1   Application Date      1048575 non-null  object \n",
      " 2   Loan Title            1048546 non-null  object \n",
      " 3   Risk_Score            781631 non-null   float64\n",
      " 4   Debt-To-Income Ratio  1048575 non-null  object \n",
      " 5   Zip Code              1048531 non-null  object \n",
      " 6   State                 1048554 non-null  object \n",
      " 7   Employment Length     1026235 non-null  object \n",
      " 8   Policy Code           1048575 non-null  int64  \n",
      "dtypes: float64(2), int64(1), object(6)\n",
      "memory usage: 72.0+ MB\n"
     ]
    }
   ],
   "source": [
    "rejected.info()"
   ]
  },
  {
   "cell_type": "markdown",
   "metadata": {},
   "source": [
    "missingness"
   ]
  },
  {
   "cell_type": "code",
   "execution_count": 5,
   "metadata": {},
   "outputs": [
    {
     "name": "stdout",
     "output_type": "stream",
     "text": [
      "loan_amnt: 33\n",
      "issue_d: 33\n",
      "title: 23358\n",
      "last_fico_range_high: 33\n",
      "last_fico_range_low: 33\n",
      "annual_inc: 37\n",
      "installment: 33\n",
      "zip_code: 34\n",
      "addr_state: 33\n",
      "emp_length: 146940\n",
      "policy_code: 33\n"
     ]
    }
   ],
   "source": [
    "# accepted\n",
    "for col in accepted.columns:\n",
    "    print(f'{col}: {accepted[col].isnull().sum()}')"
   ]
  },
  {
   "cell_type": "code",
   "execution_count": 6,
   "metadata": {},
   "outputs": [
    {
     "name": "stdout",
     "output_type": "stream",
     "text": [
      "Amount Requested: 0\n",
      "Application Date: 0\n",
      "Loan Title: 29\n",
      "Risk_Score: 266944\n",
      "Debt-To-Income Ratio: 0\n",
      "Zip Code: 44\n",
      "State: 21\n",
      "Employment Length: 22340\n",
      "Policy Code: 0\n"
     ]
    }
   ],
   "source": [
    "# rejected\n",
    "for col in rejected.columns:\n",
    "    print(f'{col}: {rejected[col].isnull().sum()}')"
   ]
  },
  {
   "cell_type": "markdown",
   "metadata": {},
   "source": [
    "accepted df cleaning"
   ]
  },
  {
   "cell_type": "code",
   "execution_count": 7,
   "metadata": {},
   "outputs": [],
   "source": [
    "accepted_df = accepted.copy()\n",
    "accepted_df['title'] = accepted_df['title'].str.replace('_', ' ').str.lower()\n",
    "\n",
    "accepted_df['risk_score'] = (accepted_df['last_fico_range_high'] + accepted_df['last_fico_range_low']) / 2\n",
    "\n",
    "accepted_df['annual_inc'] = np.where(accepted_df['annual_inc'] == 0, np.nan, accepted_df['annual_inc'])\n",
    "accepted_df.dropna(subset = ['annual_inc'], inplace = True)\n",
    "accepted_df['debt_to_income_ratio'] = accepted_df['installment'] / (accepted_df['annual_inc'] / 12)\n",
    "\n",
    "accepted_df['year'] = accepted_df['issue_d'].str[-4:].astype('int')\n",
    "\n",
    "accepted_df['status'] = 1\n",
    "\n",
    "accepted_df.drop(['issue_d','last_fico_range_high','last_fico_range_low','installment','annual_inc'],\n",
    "                 axis = 1, inplace = True)\n",
    "\n",
    "accepted_df = accepted_df.rename(columns = {'loan_amnt':'amount', 'title':'title',\n",
    "                                            'risk_score':'risk_score','zip_code':'zip', 'addr_state':'state',\n",
    "                                            'emp_length':'length_of_emp','debt_to_income_ratio':'debt_to_income_ratio',\n",
    "                                            'policy_code':'policy_code','year':'year','status':'status'})"
   ]
  },
  {
   "cell_type": "code",
   "execution_count": 8,
   "metadata": {
    "scrolled": false
   },
   "outputs": [
    {
     "data": {
      "text/html": [
       "<div>\n",
       "<style scoped>\n",
       "    .dataframe tbody tr th:only-of-type {\n",
       "        vertical-align: middle;\n",
       "    }\n",
       "\n",
       "    .dataframe tbody tr th {\n",
       "        vertical-align: top;\n",
       "    }\n",
       "\n",
       "    .dataframe thead th {\n",
       "        text-align: right;\n",
       "    }\n",
       "</style>\n",
       "<table border=\"1\" class=\"dataframe\">\n",
       "  <thead>\n",
       "    <tr style=\"text-align: right;\">\n",
       "      <th></th>\n",
       "      <th>amount</th>\n",
       "      <th>title</th>\n",
       "      <th>zip</th>\n",
       "      <th>state</th>\n",
       "      <th>length_of_emp</th>\n",
       "      <th>policy_code</th>\n",
       "      <th>risk_score</th>\n",
       "      <th>debt_to_income_ratio</th>\n",
       "      <th>year</th>\n",
       "      <th>status</th>\n",
       "    </tr>\n",
       "  </thead>\n",
       "  <tbody>\n",
       "    <tr>\n",
       "      <th>107141</th>\n",
       "      <td>20000.0</td>\n",
       "      <td>credit card refinancing</td>\n",
       "      <td>908xx</td>\n",
       "      <td>CA</td>\n",
       "      <td>5 years</td>\n",
       "      <td>1.0</td>\n",
       "      <td>752.0</td>\n",
       "      <td>0.026965</td>\n",
       "      <td>2015</td>\n",
       "      <td>1</td>\n",
       "    </tr>\n",
       "    <tr>\n",
       "      <th>1919541</th>\n",
       "      <td>2400.0</td>\n",
       "      <td>motorcycle</td>\n",
       "      <td>115xx</td>\n",
       "      <td>NY</td>\n",
       "      <td>10+ years</td>\n",
       "      <td>1.0</td>\n",
       "      <td>652.0</td>\n",
       "      <td>0.028163</td>\n",
       "      <td>2012</td>\n",
       "      <td>1</td>\n",
       "    </tr>\n",
       "    <tr>\n",
       "      <th>1075504</th>\n",
       "      <td>11200.0</td>\n",
       "      <td>debt consolidation</td>\n",
       "      <td>422xx</td>\n",
       "      <td>KY</td>\n",
       "      <td>9 years</td>\n",
       "      <td>1.0</td>\n",
       "      <td>647.0</td>\n",
       "      <td>0.107228</td>\n",
       "      <td>2016</td>\n",
       "      <td>1</td>\n",
       "    </tr>\n",
       "    <tr>\n",
       "      <th>235626</th>\n",
       "      <td>8500.0</td>\n",
       "      <td>debt consolidation</td>\n",
       "      <td>296xx</td>\n",
       "      <td>SC</td>\n",
       "      <td>4 years</td>\n",
       "      <td>1.0</td>\n",
       "      <td>707.0</td>\n",
       "      <td>0.049305</td>\n",
       "      <td>2015</td>\n",
       "      <td>1</td>\n",
       "    </tr>\n",
       "    <tr>\n",
       "      <th>209201</th>\n",
       "      <td>8400.0</td>\n",
       "      <td>debt consolidation</td>\n",
       "      <td>318xx</td>\n",
       "      <td>GA</td>\n",
       "      <td>10+ years</td>\n",
       "      <td>1.0</td>\n",
       "      <td>577.0</td>\n",
       "      <td>0.026779</td>\n",
       "      <td>2015</td>\n",
       "      <td>1</td>\n",
       "    </tr>\n",
       "    <tr>\n",
       "      <th>1447011</th>\n",
       "      <td>10000.0</td>\n",
       "      <td>credit card refinancing</td>\n",
       "      <td>183xx</td>\n",
       "      <td>PA</td>\n",
       "      <td>10+ years</td>\n",
       "      <td>1.0</td>\n",
       "      <td>642.0</td>\n",
       "      <td>0.035828</td>\n",
       "      <td>2018</td>\n",
       "      <td>1</td>\n",
       "    </tr>\n",
       "    <tr>\n",
       "      <th>32514</th>\n",
       "      <td>7000.0</td>\n",
       "      <td>debt consolidation</td>\n",
       "      <td>212xx</td>\n",
       "      <td>MD</td>\n",
       "      <td>1 year</td>\n",
       "      <td>1.0</td>\n",
       "      <td>827.0</td>\n",
       "      <td>0.050594</td>\n",
       "      <td>2015</td>\n",
       "      <td>1</td>\n",
       "    </tr>\n",
       "    <tr>\n",
       "      <th>2016053</th>\n",
       "      <td>7000.0</td>\n",
       "      <td>debt consolidation</td>\n",
       "      <td>273xx</td>\n",
       "      <td>NC</td>\n",
       "      <td>10+ years</td>\n",
       "      <td>1.0</td>\n",
       "      <td>682.0</td>\n",
       "      <td>0.033176</td>\n",
       "      <td>2016</td>\n",
       "      <td>1</td>\n",
       "    </tr>\n",
       "    <tr>\n",
       "      <th>699269</th>\n",
       "      <td>20800.0</td>\n",
       "      <td>credit card refinancing</td>\n",
       "      <td>662xx</td>\n",
       "      <td>KS</td>\n",
       "      <td>5 years</td>\n",
       "      <td>1.0</td>\n",
       "      <td>747.0</td>\n",
       "      <td>0.091194</td>\n",
       "      <td>2016</td>\n",
       "      <td>1</td>\n",
       "    </tr>\n",
       "    <tr>\n",
       "      <th>1336060</th>\n",
       "      <td>1500.0</td>\n",
       "      <td>home improvement</td>\n",
       "      <td>190xx</td>\n",
       "      <td>PA</td>\n",
       "      <td>6 years</td>\n",
       "      <td>1.0</td>\n",
       "      <td>612.0</td>\n",
       "      <td>0.004982</td>\n",
       "      <td>2014</td>\n",
       "      <td>1</td>\n",
       "    </tr>\n",
       "  </tbody>\n",
       "</table>\n",
       "</div>"
      ],
      "text/plain": [
       "          amount                    title    zip state length_of_emp  \\\n",
       "107141   20000.0  credit card refinancing  908xx    CA       5 years   \n",
       "1919541   2400.0               motorcycle  115xx    NY     10+ years   \n",
       "1075504  11200.0       debt consolidation  422xx    KY       9 years   \n",
       "235626    8500.0       debt consolidation  296xx    SC       4 years   \n",
       "209201    8400.0       debt consolidation  318xx    GA     10+ years   \n",
       "1447011  10000.0  credit card refinancing  183xx    PA     10+ years   \n",
       "32514     7000.0       debt consolidation  212xx    MD        1 year   \n",
       "2016053   7000.0       debt consolidation  273xx    NC     10+ years   \n",
       "699269   20800.0  credit card refinancing  662xx    KS       5 years   \n",
       "1336060   1500.0         home improvement  190xx    PA       6 years   \n",
       "\n",
       "         policy_code  risk_score  debt_to_income_ratio  year  status  \n",
       "107141           1.0       752.0              0.026965  2015       1  \n",
       "1919541          1.0       652.0              0.028163  2012       1  \n",
       "1075504          1.0       647.0              0.107228  2016       1  \n",
       "235626           1.0       707.0              0.049305  2015       1  \n",
       "209201           1.0       577.0              0.026779  2015       1  \n",
       "1447011          1.0       642.0              0.035828  2018       1  \n",
       "32514            1.0       827.0              0.050594  2015       1  \n",
       "2016053          1.0       682.0              0.033176  2016       1  \n",
       "699269           1.0       747.0              0.091194  2016       1  \n",
       "1336060          1.0       612.0              0.004982  2014       1  "
      ]
     },
     "execution_count": 8,
     "metadata": {},
     "output_type": "execute_result"
    }
   ],
   "source": [
    "accepted_df.sample(10)"
   ]
  },
  {
   "cell_type": "code",
   "execution_count": 26,
   "metadata": {},
   "outputs": [
    {
     "data": {
      "text/plain": [
       "year\n",
       "2007       599\n",
       "2008      2392\n",
       "2009      5280\n",
       "2010     12526\n",
       "2011     21721\n",
       "2012     53365\n",
       "2013    134809\n",
       "2014    235629\n",
       "2015    420961\n",
       "2016    411182\n",
       "2017    443086\n",
       "2018    494127\n",
       "Name: title, dtype: int64"
      ]
     },
     "execution_count": 26,
     "metadata": {},
     "output_type": "execute_result"
    }
   ],
   "source": [
    "accepted_df.groupby('year')['title'].count()"
   ]
  },
  {
   "cell_type": "code",
   "execution_count": 9,
   "metadata": {},
   "outputs": [
    {
     "name": "stdout",
     "output_type": "stream",
     "text": [
      "<class 'pandas.core.frame.DataFrame'>\n",
      "Int64Index: 2258997 entries, 0 to 2260698\n",
      "Data columns (total 10 columns):\n",
      " #   Column                Dtype  \n",
      "---  ------                -----  \n",
      " 0   amount                float64\n",
      " 1   title                 object \n",
      " 2   zip                   object \n",
      " 3   state                 object \n",
      " 4   length_of_emp         object \n",
      " 5   policy_code           float64\n",
      " 6   risk_score            float64\n",
      " 7   debt_to_income_ratio  float64\n",
      " 8   year                  int32  \n",
      " 9   status                int64  \n",
      "dtypes: float64(4), int32(1), int64(1), object(4)\n",
      "memory usage: 181.0+ MB\n"
     ]
    }
   ],
   "source": [
    "accepted_df.info()"
   ]
  },
  {
   "cell_type": "markdown",
   "metadata": {},
   "source": [
    "rejected df cleaning"
   ]
  },
  {
   "cell_type": "code",
   "execution_count": 10,
   "metadata": {},
   "outputs": [],
   "source": [
    "rejected_df = rejected.copy()\n",
    "\n",
    "rejected_df['Loan Title'] = rejected_df['Loan Title'].str.replace('_', ' ').str.lower()\n",
    "\n",
    "rejected_df['year'] = rejected_df['Application Date'].str[-4:].astype('int')\n",
    "\n",
    "rejected_df['debt_to_income_ratio'] = rejected_df['Debt-To-Income Ratio'].str.replace('%','').astype('float')/100\n",
    "\n",
    "rejected_df['status'] = 0\n",
    "\n",
    "rejected_df = rejected_df.drop(['Application Date','Debt-To-Income Ratio'], axis = 1)\n",
    "\n",
    "rejected_df = rejected_df.rename(columns = {'Amount Requested':'amount', 'Loan Title':'title',\n",
    "                                            'Risk_Score':'risk_score','Zip Code':'zip', 'State':'state',\n",
    "                                            'Employment Length':'length_of_emp',\n",
    "                                            'Policy Code':'policy_code','year':'year','status':'status'})"
   ]
  },
  {
   "cell_type": "code",
   "execution_count": 11,
   "metadata": {},
   "outputs": [
    {
     "data": {
      "text/html": [
       "<div>\n",
       "<style scoped>\n",
       "    .dataframe tbody tr th:only-of-type {\n",
       "        vertical-align: middle;\n",
       "    }\n",
       "\n",
       "    .dataframe tbody tr th {\n",
       "        vertical-align: top;\n",
       "    }\n",
       "\n",
       "    .dataframe thead th {\n",
       "        text-align: right;\n",
       "    }\n",
       "</style>\n",
       "<table border=\"1\" class=\"dataframe\">\n",
       "  <thead>\n",
       "    <tr style=\"text-align: right;\">\n",
       "      <th></th>\n",
       "      <th>amount</th>\n",
       "      <th>title</th>\n",
       "      <th>risk_score</th>\n",
       "      <th>zip</th>\n",
       "      <th>state</th>\n",
       "      <th>length_of_emp</th>\n",
       "      <th>policy_code</th>\n",
       "      <th>year</th>\n",
       "      <th>debt_to_income_ratio</th>\n",
       "      <th>status</th>\n",
       "    </tr>\n",
       "  </thead>\n",
       "  <tbody>\n",
       "    <tr>\n",
       "      <th>989630</th>\n",
       "      <td>3000.0</td>\n",
       "      <td>other</td>\n",
       "      <td>NaN</td>\n",
       "      <td>921xx</td>\n",
       "      <td>CA</td>\n",
       "      <td>&lt; 1 year</td>\n",
       "      <td>0</td>\n",
       "      <td>2016</td>\n",
       "      <td>0.1458</td>\n",
       "      <td>0</td>\n",
       "    </tr>\n",
       "    <tr>\n",
       "      <th>530037</th>\n",
       "      <td>1500.0</td>\n",
       "      <td>medical</td>\n",
       "      <td>659.0</td>\n",
       "      <td>920xx</td>\n",
       "      <td>CA</td>\n",
       "      <td>&lt; 1 year</td>\n",
       "      <td>0</td>\n",
       "      <td>2012</td>\n",
       "      <td>0.1913</td>\n",
       "      <td>0</td>\n",
       "    </tr>\n",
       "    <tr>\n",
       "      <th>625947</th>\n",
       "      <td>5000.0</td>\n",
       "      <td>debt consolidation</td>\n",
       "      <td>588.0</td>\n",
       "      <td>949xx</td>\n",
       "      <td>CA</td>\n",
       "      <td>&lt; 1 year</td>\n",
       "      <td>0</td>\n",
       "      <td>2012</td>\n",
       "      <td>0.3709</td>\n",
       "      <td>0</td>\n",
       "    </tr>\n",
       "    <tr>\n",
       "      <th>148500</th>\n",
       "      <td>4500.0</td>\n",
       "      <td>educational</td>\n",
       "      <td>702.0</td>\n",
       "      <td>421xx</td>\n",
       "      <td>KY</td>\n",
       "      <td>&lt; 1 year</td>\n",
       "      <td>0</td>\n",
       "      <td>2010</td>\n",
       "      <td>0.3880</td>\n",
       "      <td>0</td>\n",
       "    </tr>\n",
       "    <tr>\n",
       "      <th>115900</th>\n",
       "      <td>1000.0</td>\n",
       "      <td>moving</td>\n",
       "      <td>0.0</td>\n",
       "      <td>970xx</td>\n",
       "      <td>OR</td>\n",
       "      <td>&lt; 1 year</td>\n",
       "      <td>0</td>\n",
       "      <td>2010</td>\n",
       "      <td>0.0000</td>\n",
       "      <td>0</td>\n",
       "    </tr>\n",
       "    <tr>\n",
       "      <th>125006</th>\n",
       "      <td>13000.0</td>\n",
       "      <td>consolidate</td>\n",
       "      <td>737.0</td>\n",
       "      <td>941xx</td>\n",
       "      <td>CA</td>\n",
       "      <td>6 years</td>\n",
       "      <td>0</td>\n",
       "      <td>2010</td>\n",
       "      <td>0.0831</td>\n",
       "      <td>0</td>\n",
       "    </tr>\n",
       "    <tr>\n",
       "      <th>808635</th>\n",
       "      <td>10000.0</td>\n",
       "      <td>other</td>\n",
       "      <td>NaN</td>\n",
       "      <td>802xx</td>\n",
       "      <td>CO</td>\n",
       "      <td>&lt; 1 year</td>\n",
       "      <td>0</td>\n",
       "      <td>2016</td>\n",
       "      <td>0.0068</td>\n",
       "      <td>0</td>\n",
       "    </tr>\n",
       "    <tr>\n",
       "      <th>151693</th>\n",
       "      <td>2000.0</td>\n",
       "      <td>moving</td>\n",
       "      <td>541.0</td>\n",
       "      <td>080xx</td>\n",
       "      <td>NJ</td>\n",
       "      <td>&lt; 1 year</td>\n",
       "      <td>0</td>\n",
       "      <td>2010</td>\n",
       "      <td>0.0000</td>\n",
       "      <td>0</td>\n",
       "    </tr>\n",
       "    <tr>\n",
       "      <th>955636</th>\n",
       "      <td>6500.0</td>\n",
       "      <td>debt consolidation</td>\n",
       "      <td>NaN</td>\n",
       "      <td>157xx</td>\n",
       "      <td>PA</td>\n",
       "      <td>&lt; 1 year</td>\n",
       "      <td>0</td>\n",
       "      <td>2016</td>\n",
       "      <td>0.2939</td>\n",
       "      <td>0</td>\n",
       "    </tr>\n",
       "    <tr>\n",
       "      <th>220117</th>\n",
       "      <td>10000.0</td>\n",
       "      <td>car</td>\n",
       "      <td>634.0</td>\n",
       "      <td>260xx</td>\n",
       "      <td>WV</td>\n",
       "      <td>10+ years</td>\n",
       "      <td>0</td>\n",
       "      <td>2011</td>\n",
       "      <td>0.0603</td>\n",
       "      <td>0</td>\n",
       "    </tr>\n",
       "  </tbody>\n",
       "</table>\n",
       "</div>"
      ],
      "text/plain": [
       "         amount               title  risk_score    zip state length_of_emp  \\\n",
       "989630   3000.0               other         NaN  921xx    CA      < 1 year   \n",
       "530037   1500.0             medical       659.0  920xx    CA      < 1 year   \n",
       "625947   5000.0  debt consolidation       588.0  949xx    CA      < 1 year   \n",
       "148500   4500.0         educational       702.0  421xx    KY      < 1 year   \n",
       "115900   1000.0              moving         0.0  970xx    OR      < 1 year   \n",
       "125006  13000.0         consolidate       737.0  941xx    CA       6 years   \n",
       "808635  10000.0               other         NaN  802xx    CO      < 1 year   \n",
       "151693   2000.0              moving       541.0  080xx    NJ      < 1 year   \n",
       "955636   6500.0  debt consolidation         NaN  157xx    PA      < 1 year   \n",
       "220117  10000.0                 car       634.0  260xx    WV     10+ years   \n",
       "\n",
       "        policy_code  year  debt_to_income_ratio  status  \n",
       "989630            0  2016                0.1458       0  \n",
       "530037            0  2012                0.1913       0  \n",
       "625947            0  2012                0.3709       0  \n",
       "148500            0  2010                0.3880       0  \n",
       "115900            0  2010                0.0000       0  \n",
       "125006            0  2010                0.0831       0  \n",
       "808635            0  2016                0.0068       0  \n",
       "151693            0  2010                0.0000       0  \n",
       "955636            0  2016                0.2939       0  \n",
       "220117            0  2011                0.0603       0  "
      ]
     },
     "execution_count": 11,
     "metadata": {},
     "output_type": "execute_result"
    }
   ],
   "source": [
    "rejected_df.sample(10)"
   ]
  },
  {
   "cell_type": "code",
   "execution_count": 28,
   "metadata": {},
   "outputs": [
    {
     "data": {
      "text/plain": [
       "year\n",
       "2007      5274\n",
       "2008     25595\n",
       "2009     56981\n",
       "2010    112560\n",
       "2011    217792\n",
       "2012    337275\n",
       "2016    293069\n",
       "Name: title, dtype: int64"
      ]
     },
     "execution_count": 28,
     "metadata": {},
     "output_type": "execute_result"
    }
   ],
   "source": [
    "rejected_df.groupby('year')['title'].count()"
   ]
  },
  {
   "cell_type": "code",
   "execution_count": 12,
   "metadata": {
    "scrolled": true
   },
   "outputs": [
    {
     "name": "stdout",
     "output_type": "stream",
     "text": [
      "<class 'pandas.core.frame.DataFrame'>\n",
      "RangeIndex: 1048575 entries, 0 to 1048574\n",
      "Data columns (total 10 columns):\n",
      " #   Column                Non-Null Count    Dtype  \n",
      "---  ------                --------------    -----  \n",
      " 0   amount                1048575 non-null  float64\n",
      " 1   title                 1048546 non-null  object \n",
      " 2   risk_score            781631 non-null   float64\n",
      " 3   zip                   1048531 non-null  object \n",
      " 4   state                 1048554 non-null  object \n",
      " 5   length_of_emp         1026235 non-null  object \n",
      " 6   policy_code           1048575 non-null  int64  \n",
      " 7   year                  1048575 non-null  int32  \n",
      " 8   debt_to_income_ratio  1048575 non-null  float64\n",
      " 9   status                1048575 non-null  int64  \n",
      "dtypes: float64(3), int32(1), int64(2), object(4)\n",
      "memory usage: 76.0+ MB\n"
     ]
    }
   ],
   "source": [
    "rejected_df.info()"
   ]
  },
  {
   "cell_type": "markdown",
   "metadata": {},
   "source": [
    "accepted_df + rejected_df"
   ]
  },
  {
   "cell_type": "code",
   "execution_count": 13,
   "metadata": {},
   "outputs": [],
   "source": [
    "lc_df = pd.concat([accepted_df, rejected_df], axis = 0)"
   ]
  },
  {
   "cell_type": "code",
   "execution_count": 14,
   "metadata": {},
   "outputs": [
    {
     "data": {
      "text/html": [
       "<div>\n",
       "<style scoped>\n",
       "    .dataframe tbody tr th:only-of-type {\n",
       "        vertical-align: middle;\n",
       "    }\n",
       "\n",
       "    .dataframe tbody tr th {\n",
       "        vertical-align: top;\n",
       "    }\n",
       "\n",
       "    .dataframe thead th {\n",
       "        text-align: right;\n",
       "    }\n",
       "</style>\n",
       "<table border=\"1\" class=\"dataframe\">\n",
       "  <thead>\n",
       "    <tr style=\"text-align: right;\">\n",
       "      <th></th>\n",
       "      <th>amount</th>\n",
       "      <th>title</th>\n",
       "      <th>zip</th>\n",
       "      <th>state</th>\n",
       "      <th>length_of_emp</th>\n",
       "      <th>policy_code</th>\n",
       "      <th>risk_score</th>\n",
       "      <th>debt_to_income_ratio</th>\n",
       "      <th>year</th>\n",
       "      <th>status</th>\n",
       "    </tr>\n",
       "  </thead>\n",
       "  <tbody>\n",
       "    <tr>\n",
       "      <th>601780</th>\n",
       "      <td>14000.0</td>\n",
       "      <td>debt consolidation</td>\n",
       "      <td>601xx</td>\n",
       "      <td>IL</td>\n",
       "      <td>NaN</td>\n",
       "      <td>1.0</td>\n",
       "      <td>652.0</td>\n",
       "      <td>0.072682</td>\n",
       "      <td>2017</td>\n",
       "      <td>1</td>\n",
       "    </tr>\n",
       "    <tr>\n",
       "      <th>1774938</th>\n",
       "      <td>21000.0</td>\n",
       "      <td>my new life</td>\n",
       "      <td>785xx</td>\n",
       "      <td>TX</td>\n",
       "      <td>3 years</td>\n",
       "      <td>1.0</td>\n",
       "      <td>697.0</td>\n",
       "      <td>0.157054</td>\n",
       "      <td>2013</td>\n",
       "      <td>1</td>\n",
       "    </tr>\n",
       "    <tr>\n",
       "      <th>922709</th>\n",
       "      <td>5000.0</td>\n",
       "      <td>vacation</td>\n",
       "      <td>983xx</td>\n",
       "      <td>WA</td>\n",
       "      <td>2 years</td>\n",
       "      <td>1.0</td>\n",
       "      <td>532.0</td>\n",
       "      <td>0.033617</td>\n",
       "      <td>2017</td>\n",
       "      <td>1</td>\n",
       "    </tr>\n",
       "    <tr>\n",
       "      <th>1582743</th>\n",
       "      <td>5000.0</td>\n",
       "      <td>debt consolidation</td>\n",
       "      <td>339xx</td>\n",
       "      <td>FL</td>\n",
       "      <td>&lt; 1 year</td>\n",
       "      <td>1.0</td>\n",
       "      <td>667.0</td>\n",
       "      <td>0.051447</td>\n",
       "      <td>2018</td>\n",
       "      <td>1</td>\n",
       "    </tr>\n",
       "    <tr>\n",
       "      <th>631624</th>\n",
       "      <td>40000.0</td>\n",
       "      <td>debt consolidation</td>\n",
       "      <td>481xx</td>\n",
       "      <td>MI</td>\n",
       "      <td>10+ years</td>\n",
       "      <td>1.0</td>\n",
       "      <td>602.0</td>\n",
       "      <td>0.159838</td>\n",
       "      <td>2017</td>\n",
       "      <td>1</td>\n",
       "    </tr>\n",
       "    <tr>\n",
       "      <th>206494</th>\n",
       "      <td>20000.0</td>\n",
       "      <td>debt consolidation</td>\n",
       "      <td>604xx</td>\n",
       "      <td>IL</td>\n",
       "      <td>&lt; 1 year</td>\n",
       "      <td>0.0</td>\n",
       "      <td>670.0</td>\n",
       "      <td>0.170000</td>\n",
       "      <td>2011</td>\n",
       "      <td>0</td>\n",
       "    </tr>\n",
       "    <tr>\n",
       "      <th>321993</th>\n",
       "      <td>12000.0</td>\n",
       "      <td>debt consolidation</td>\n",
       "      <td>080xx</td>\n",
       "      <td>NJ</td>\n",
       "      <td>NaN</td>\n",
       "      <td>1.0</td>\n",
       "      <td>567.0</td>\n",
       "      <td>0.048855</td>\n",
       "      <td>2015</td>\n",
       "      <td>1</td>\n",
       "    </tr>\n",
       "    <tr>\n",
       "      <th>1732592</th>\n",
       "      <td>17600.0</td>\n",
       "      <td>credit card refinancing</td>\n",
       "      <td>350xx</td>\n",
       "      <td>AL</td>\n",
       "      <td>5 years</td>\n",
       "      <td>1.0</td>\n",
       "      <td>752.0</td>\n",
       "      <td>0.100686</td>\n",
       "      <td>2017</td>\n",
       "      <td>1</td>\n",
       "    </tr>\n",
       "    <tr>\n",
       "      <th>1705889</th>\n",
       "      <td>7000.0</td>\n",
       "      <td>debt consolidation</td>\n",
       "      <td>926xx</td>\n",
       "      <td>CA</td>\n",
       "      <td>NaN</td>\n",
       "      <td>1.0</td>\n",
       "      <td>747.0</td>\n",
       "      <td>0.079077</td>\n",
       "      <td>2017</td>\n",
       "      <td>1</td>\n",
       "    </tr>\n",
       "    <tr>\n",
       "      <th>686864</th>\n",
       "      <td>10000.0</td>\n",
       "      <td>small business</td>\n",
       "      <td>206xx</td>\n",
       "      <td>MD</td>\n",
       "      <td>&lt; 1 year</td>\n",
       "      <td>0.0</td>\n",
       "      <td>637.0</td>\n",
       "      <td>0.254100</td>\n",
       "      <td>2012</td>\n",
       "      <td>0</td>\n",
       "    </tr>\n",
       "  </tbody>\n",
       "</table>\n",
       "</div>"
      ],
      "text/plain": [
       "          amount                    title    zip state length_of_emp  \\\n",
       "601780   14000.0       debt consolidation  601xx    IL           NaN   \n",
       "1774938  21000.0              my new life  785xx    TX       3 years   \n",
       "922709    5000.0                 vacation  983xx    WA       2 years   \n",
       "1582743   5000.0       debt consolidation  339xx    FL      < 1 year   \n",
       "631624   40000.0       debt consolidation  481xx    MI     10+ years   \n",
       "206494   20000.0       debt consolidation  604xx    IL      < 1 year   \n",
       "321993   12000.0       debt consolidation  080xx    NJ           NaN   \n",
       "1732592  17600.0  credit card refinancing  350xx    AL       5 years   \n",
       "1705889   7000.0       debt consolidation  926xx    CA           NaN   \n",
       "686864   10000.0           small business  206xx    MD      < 1 year   \n",
       "\n",
       "         policy_code  risk_score  debt_to_income_ratio  year  status  \n",
       "601780           1.0       652.0              0.072682  2017       1  \n",
       "1774938          1.0       697.0              0.157054  2013       1  \n",
       "922709           1.0       532.0              0.033617  2017       1  \n",
       "1582743          1.0       667.0              0.051447  2018       1  \n",
       "631624           1.0       602.0              0.159838  2017       1  \n",
       "206494           0.0       670.0              0.170000  2011       0  \n",
       "321993           1.0       567.0              0.048855  2015       1  \n",
       "1732592          1.0       752.0              0.100686  2017       1  \n",
       "1705889          1.0       747.0              0.079077  2017       1  \n",
       "686864           0.0       637.0              0.254100  2012       0  "
      ]
     },
     "execution_count": 14,
     "metadata": {},
     "output_type": "execute_result"
    }
   ],
   "source": [
    "lc_df.sample(10)"
   ]
  },
  {
   "cell_type": "markdown",
   "metadata": {},
   "source": [
    "adding region columns"
   ]
  },
  {
   "cell_type": "code",
   "execution_count": 15,
   "metadata": {},
   "outputs": [],
   "source": [
    "region = pd.read_csv('states.csv')"
   ]
  },
  {
   "cell_type": "code",
   "execution_count": 16,
   "metadata": {},
   "outputs": [
    {
     "data": {
      "text/html": [
       "<div>\n",
       "<style scoped>\n",
       "    .dataframe tbody tr th:only-of-type {\n",
       "        vertical-align: middle;\n",
       "    }\n",
       "\n",
       "    .dataframe tbody tr th {\n",
       "        vertical-align: top;\n",
       "    }\n",
       "\n",
       "    .dataframe thead th {\n",
       "        text-align: right;\n",
       "    }\n",
       "</style>\n",
       "<table border=\"1\" class=\"dataframe\">\n",
       "  <thead>\n",
       "    <tr style=\"text-align: right;\">\n",
       "      <th></th>\n",
       "      <th>State</th>\n",
       "      <th>State Code</th>\n",
       "      <th>Region</th>\n",
       "      <th>Division</th>\n",
       "    </tr>\n",
       "  </thead>\n",
       "  <tbody>\n",
       "    <tr>\n",
       "      <th>46</th>\n",
       "      <td>Vermont</td>\n",
       "      <td>VT</td>\n",
       "      <td>Northeast</td>\n",
       "      <td>New England</td>\n",
       "    </tr>\n",
       "    <tr>\n",
       "      <th>5</th>\n",
       "      <td>Colorado</td>\n",
       "      <td>CO</td>\n",
       "      <td>West</td>\n",
       "      <td>Mountain</td>\n",
       "    </tr>\n",
       "    <tr>\n",
       "      <th>26</th>\n",
       "      <td>Montana</td>\n",
       "      <td>MT</td>\n",
       "      <td>West</td>\n",
       "      <td>Mountain</td>\n",
       "    </tr>\n",
       "    <tr>\n",
       "      <th>29</th>\n",
       "      <td>Nebraska</td>\n",
       "      <td>NE</td>\n",
       "      <td>Midwest</td>\n",
       "      <td>West North Central</td>\n",
       "    </tr>\n",
       "    <tr>\n",
       "      <th>19</th>\n",
       "      <td>Massachusetts</td>\n",
       "      <td>MA</td>\n",
       "      <td>Northeast</td>\n",
       "      <td>New England</td>\n",
       "    </tr>\n",
       "  </tbody>\n",
       "</table>\n",
       "</div>"
      ],
      "text/plain": [
       "            State State Code     Region            Division\n",
       "46        Vermont         VT  Northeast         New England\n",
       "5        Colorado         CO       West            Mountain\n",
       "26        Montana         MT       West            Mountain\n",
       "29       Nebraska         NE    Midwest  West North Central\n",
       "19  Massachusetts         MA  Northeast         New England"
      ]
     },
     "execution_count": 16,
     "metadata": {},
     "output_type": "execute_result"
    }
   ],
   "source": [
    "region.sample(5)"
   ]
  },
  {
   "cell_type": "code",
   "execution_count": 17,
   "metadata": {},
   "outputs": [],
   "source": [
    "lc_df = lc_df.merge(region, how = 'left', left_on = 'state', right_on = 'State Code')"
   ]
  },
  {
   "cell_type": "code",
   "execution_count": 18,
   "metadata": {
    "scrolled": false
   },
   "outputs": [],
   "source": [
    "lc_df.drop(['zip','State','State Code'], axis = 1, inplace = True)"
   ]
  },
  {
   "cell_type": "code",
   "execution_count": 19,
   "metadata": {},
   "outputs": [],
   "source": [
    "lc_df.columns = lc_df.columns.str.lower()"
   ]
  },
  {
   "cell_type": "code",
   "execution_count": 20,
   "metadata": {},
   "outputs": [
    {
     "name": "stdout",
     "output_type": "stream",
     "text": [
      "amount: 0\n",
      "title: 23349\n",
      "state: 21\n",
      "length_of_emp: 167680\n",
      "policy_code: 0\n",
      "risk_score: 266944\n",
      "debt_to_income_ratio: 0\n",
      "year: 0\n",
      "status: 0\n",
      "region: 21\n",
      "division: 21\n"
     ]
    }
   ],
   "source": [
    "for col in lc_df.columns:\n",
    "    print(f'{col}: {lc_df[col].isnull().sum()}')"
   ]
  },
  {
   "cell_type": "code",
   "execution_count": 21,
   "metadata": {},
   "outputs": [],
   "source": [
    "lc_df.dropna(subset = ['state'], inplace = True)"
   ]
  },
  {
   "cell_type": "code",
   "execution_count": 22,
   "metadata": {},
   "outputs": [
    {
     "name": "stdout",
     "output_type": "stream",
     "text": [
      "<class 'pandas.core.frame.DataFrame'>\n",
      "Int64Index: 3307551 entries, 0 to 3307571\n",
      "Data columns (total 11 columns):\n",
      " #   Column                Dtype  \n",
      "---  ------                -----  \n",
      " 0   amount                float64\n",
      " 1   title                 object \n",
      " 2   state                 object \n",
      " 3   length_of_emp         object \n",
      " 4   policy_code           float64\n",
      " 5   risk_score            float64\n",
      " 6   debt_to_income_ratio  float64\n",
      " 7   year                  int32  \n",
      " 8   status                int64  \n",
      " 9   region                object \n",
      " 10  division              object \n",
      "dtypes: float64(4), int32(1), int64(1), object(5)\n",
      "memory usage: 290.2+ MB\n"
     ]
    }
   ],
   "source": [
    "lc_df.info()"
   ]
  },
  {
   "cell_type": "markdown",
   "metadata": {},
   "source": [
    "export"
   ]
  },
  {
   "cell_type": "code",
   "execution_count": 23,
   "metadata": {},
   "outputs": [],
   "source": [
    "lc_df.to_csv('lc_cleaned.csv', index = False)"
   ]
  },
  {
   "cell_type": "code",
   "execution_count": null,
   "metadata": {},
   "outputs": [],
   "source": []
  }
 ],
 "metadata": {
  "kernelspec": {
   "display_name": "Python 3",
   "language": "python",
   "name": "python3"
  },
  "language_info": {
   "codemirror_mode": {
    "name": "ipython",
    "version": 3
   },
   "file_extension": ".py",
   "mimetype": "text/x-python",
   "name": "python",
   "nbconvert_exporter": "python",
   "pygments_lexer": "ipython3",
   "version": "3.7.6"
  }
 },
 "nbformat": 4,
 "nbformat_minor": 4
}
